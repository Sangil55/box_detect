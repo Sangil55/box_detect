{
 "cells": [
  {
   "cell_type": "code",
   "execution_count": 5,
   "metadata": {},
   "outputs": [],
   "source": [
    "import os \n",
    "from pathlib import Path\n",
    "import cv2\n",
    "import numpy as np\n"
   ]
  },
  {
   "cell_type": "code",
   "execution_count": 6,
   "metadata": {},
   "outputs": [
    {
     "ename": "KeyboardInterrupt",
     "evalue": "",
     "output_type": "error",
     "traceback": [
      "\u001b[1;31m---------------------------------------------------------------------------\u001b[0m",
      "\u001b[1;31mKeyboardInterrupt\u001b[0m                         Traceback (most recent call last)",
      "Cell \u001b[1;32mIn[6], line 7\u001b[0m\n\u001b[0;32m      4\u001b[0m \u001b[39m# dir_path2 \u001b[39;00m\n\u001b[0;32m      6\u001b[0m cfiles \u001b[39m=\u001b[39m []\n\u001b[1;32m----> 7\u001b[0m \u001b[39mfor\u001b[39;00m root, dirs, files \u001b[39min\u001b[39;00m os\u001b[39m.\u001b[39mwalk(dir_path):\n\u001b[0;32m      8\u001b[0m   \u001b[39mfor\u001b[39;00m file \u001b[39min\u001b[39;00m files:\n\u001b[0;32m      9\u001b[0m     \u001b[39mif\u001b[39;00m file\u001b[39m.\u001b[39mendswith(\u001b[39m'\u001b[39m\u001b[39m.webp\u001b[39m\u001b[39m'\u001b[39m):\n",
      "File \u001b[1;32m<frozen os>:419\u001b[0m, in \u001b[0;36m_walk\u001b[1;34m(top, topdown, onerror, followlinks)\u001b[0m\n",
      "File \u001b[1;32m<frozen os>:419\u001b[0m, in \u001b[0;36m_walk\u001b[1;34m(top, topdown, onerror, followlinks)\u001b[0m\n",
      "File \u001b[1;32m<frozen os>:419\u001b[0m, in \u001b[0;36m_walk\u001b[1;34m(top, topdown, onerror, followlinks)\u001b[0m\n",
      "File \u001b[1;32m<frozen os>:368\u001b[0m, in \u001b[0;36m_walk\u001b[1;34m(top, topdown, onerror, followlinks)\u001b[0m\n",
      "\u001b[1;31mKeyboardInterrupt\u001b[0m: "
     ]
    }
   ],
   "source": [
    "dir_path2 = ['KD-raw-202302','KD-raw-202303']\n",
    "\n",
    "dir_path = 'D:\\\\data\\\\KD\\\\'\n",
    "# dir_path2 \n",
    "\n",
    "cfiles = []\n",
    "for root, dirs, files in os.walk(dir_path):\n",
    "  for file in files:\n",
    "    if file.endswith('.webp'):\n",
    "      cfiles.append(os.path.join(root, file))\n",
    "\n",
    "dict_imagesize ={}\n",
    "for p in cfiles:\n",
    "    # print(p)\n",
    "    image = cv2.imread(p)\n",
    "    if np.min (image)>= 255:\n",
    "      os.remove(p)\n",
    "      print (p,np.mean(image))\n",
    "    if np.max (image)<= 0:\n",
    "      os.remove(p)\n",
    "      print (p,np.mean(image))\n",
    "    # print (\n",
    "    k = image.shape[0:2]\n",
    "    if k in dict_imagesize.keys():\n",
    "        dict_imagesize[k] = dict_imagesize[k] +1\n",
    "    else:\n",
    "       dict_imagesize[k] = 1"
   ]
  },
  {
   "cell_type": "code",
   "execution_count": null,
   "metadata": {},
   "outputs": [
    {
     "data": {
      "application/vnd.plotly.v1+json": {
       "config": {
        "plotlyServerURL": "https://plot.ly"
       },
       "data": [
        {
         "marker": {
          "size": 13.387223186948173
         },
         "name": "1280x720",
         "text": "32119",
         "type": "scatter",
         "x": [
          1280
         ],
         "y": [
          720
         ]
        },
        {
         "marker": {
          "size": 10.038279638926427
         },
         "name": "1280x743",
         "text": "10154",
         "type": "scatter",
         "x": [
          1280
         ],
         "y": [
          743
         ]
        },
        {
         "marker": {
          "size": 7.261246814828447
         },
         "name": "1280x800",
         "text": "2780",
         "type": "scatter",
         "x": [
          1280
         ],
         "y": [
          800
         ]
        },
        {
         "marker": {
          "size": 5.637419370965886
         },
         "name": "1280x819",
         "text": "1010",
         "type": "scatter",
         "x": [
          1280
         ],
         "y": [
          819
         ]
        },
        {
         "marker": {
          "size": 2.5607496020310148
         },
         "name": "347x648",
         "text": "43",
         "type": "scatter",
         "x": [
          347
         ],
         "y": [
          648
         ]
        },
        {
         "marker": {
          "size": 4.123105625617661
         },
         "name": "1280x826",
         "text": "289",
         "type": "scatter",
         "x": [
          1280
         ],
         "y": [
          826
         ]
        },
        {
         "marker": {
          "size": 4.847131135934065
         },
         "name": "1280x718",
         "text": "552",
         "type": "scatter",
         "x": [
          1280
         ],
         "y": [
          718
         ]
        },
        {
         "marker": {
          "size": 8.179877005999565
         },
         "name": "1280x739",
         "text": "4477",
         "type": "scatter",
         "x": [
          1280
         ],
         "y": [
          739
         ]
        },
        {
         "marker": {
          "size": 7.336469625316495
         },
         "name": "1280x721",
         "text": "2897",
         "type": "scatter",
         "x": [
          1280
         ],
         "y": [
          721
         ]
        },
        {
         "marker": {
          "size": 4.19604776684668
         },
         "name": "1280x741",
         "text": "310",
         "type": "scatter",
         "x": [
          1280
         ],
         "y": [
          741
         ]
        },
        {
         "marker": {
          "size": 1
         },
         "name": "1238x929",
         "text": "1",
         "type": "scatter",
         "x": [
          1238
         ],
         "y": [
          929
         ]
        },
        {
         "marker": {
          "size": 2.6321480259049848
         },
         "name": "1280x983",
         "text": "48",
         "type": "scatter",
         "x": [
          1280
         ],
         "y": [
          983
         ]
        },
        {
         "marker": {
          "size": 2
         },
         "name": "1280x985",
         "text": "16",
         "type": "scatter",
         "x": [
          1280
         ],
         "y": [
          985
         ]
        },
        {
         "marker": {
          "size": 5.294874081387807
         },
         "name": "1280x750",
         "text": "786",
         "type": "scatter",
         "x": [
          1280
         ],
         "y": [
          750
         ]
        },
        {
         "marker": {
          "size": 4.802616494093776
         },
         "name": "1280x824",
         "text": "532",
         "type": "scatter",
         "x": [
          1280
         ],
         "y": [
          824
         ]
        },
        {
         "marker": {
          "size": 4.940962581468049
         },
         "name": "1280x801",
         "text": "596",
         "type": "scatter",
         "x": [
          1280
         ],
         "y": [
          801
         ]
        },
        {
         "marker": {
          "size": 5.881979920402006
         },
         "name": "1280x821",
         "text": "1197",
         "type": "scatter",
         "x": [
          1280
         ],
         "y": [
          821
         ]
        },
        {
         "marker": {
          "size": 1.8211602868378718
         },
         "name": "984x740",
         "text": "11",
         "type": "scatter",
         "x": [
          984
         ],
         "y": [
          740
         ]
        },
        {
         "marker": {
          "size": 2.087797629929844
         },
         "name": "996x775",
         "text": "19",
         "type": "scatter",
         "x": [
          996
         ],
         "y": [
          775
         ]
        },
        {
         "marker": {
          "size": 6.353020709963185
         },
         "name": "1280x747",
         "text": "1629",
         "type": "scatter",
         "x": [
          1280
         ],
         "y": [
          747
         ]
        },
        {
         "marker": {
          "size": 6.133228003882462
         },
         "name": "1280x719",
         "text": "1415",
         "type": "scatter",
         "x": [
          1280
         ],
         "y": [
          719
         ]
        },
        {
         "marker": {
          "size": 6.960305026014111
         },
         "name": "1280x749",
         "text": "2347",
         "type": "scatter",
         "x": [
          1280
         ],
         "y": [
          749
         ]
        },
        {
         "marker": {
          "size": 4.262147595354359
         },
         "name": "1280x693",
         "text": "330",
         "type": "scatter",
         "x": [
          1280
         ],
         "y": [
          693
         ]
        },
        {
         "marker": {
          "size": 5.277951928008462
         },
         "name": "1280x722",
         "text": "776",
         "type": "scatter",
         "x": [
          1280
         ],
         "y": [
          722
         ]
        },
        {
         "marker": {
          "size": 3.976353643835253
         },
         "name": "1280x986",
         "text": "250",
         "type": "scatter",
         "x": [
          1280
         ],
         "y": [
          986
         ]
        },
        {
         "marker": {
          "size": 2.794682392671241
         },
         "name": "1280x960",
         "text": "61",
         "type": "scatter",
         "x": [
          1280
         ],
         "y": [
          960
         ]
        },
        {
         "marker": {
          "size": 4.608335988357978
         },
         "name": "1280x827",
         "text": "451",
         "type": "scatter",
         "x": [
          1280
         ],
         "y": [
          827
         ]
        },
        {
         "marker": {
          "size": 5.7139876999017964
         },
         "name": "1040x807",
         "text": "1066",
         "type": "scatter",
         "x": [
          1040
         ],
         "y": [
          807
         ]
        },
        {
         "marker": {
          "size": 4.728708045015879
         },
         "name": "1028x772",
         "text": "500",
         "type": "scatter",
         "x": [
          1028
         ],
         "y": [
          772
         ]
        },
        {
         "marker": {
          "size": 6.175058860438112
         },
         "name": "1280x825",
         "text": "1454",
         "type": "scatter",
         "x": [
          1280
         ],
         "y": [
          825
         ]
        },
        {
         "marker": {
          "size": 1.7782794100389228
         },
         "name": "1280x701",
         "text": "10",
         "type": "scatter",
         "x": [
          1280
         ],
         "y": [
          701
         ]
        },
        {
         "marker": {
          "size": 1.7320508075688772
         },
         "name": "1192x921",
         "text": "9",
         "type": "scatter",
         "x": [
          1192
         ],
         "y": [
          921
         ]
        },
        {
         "marker": {
          "size": 5.163776065240123
         },
         "name": "1280x841",
         "text": "711",
         "type": "scatter",
         "x": [
          1280
         ],
         "y": [
          841
         ]
        },
        {
         "marker": {
          "size": 3.992164506944726
         },
         "name": "1280x820",
         "text": "254",
         "type": "scatter",
         "x": [
          1280
         ],
         "y": [
          820
         ]
        },
        {
         "marker": {
          "size": 3.3234561855374687
         },
         "name": "1168x903",
         "text": "122",
         "type": "scatter",
         "x": [
          1168
         ],
         "y": [
          903
         ]
        },
        {
         "marker": {
          "size": 4.206162860964151
         },
         "name": "1280x535",
         "text": "313",
         "type": "scatter",
         "x": [
          1280
         ],
         "y": [
          535
         ]
        },
        {
         "marker": {
          "size": 1.189207115002721
         },
         "name": "1180x886",
         "text": "2",
         "type": "scatter",
         "x": [
          1180
         ],
         "y": [
          886
         ]
        },
        {
         "marker": {
          "size": 2.340347319320716
         },
         "name": "1280x756",
         "text": "30",
         "type": "scatter",
         "x": [
          1280
         ],
         "y": [
          756
         ]
        },
        {
         "marker": {
          "size": 5.711305705405742
         },
         "name": "1280x734",
         "text": "1064",
         "type": "scatter",
         "x": [
          1280
         ],
         "y": [
          734
         ]
        },
        {
         "marker": {
          "size": 5.870892255801342
         },
         "name": "1280x744",
         "text": "1188",
         "type": "scatter",
         "x": [
          1280
         ],
         "y": [
          744
         ]
        },
        {
         "marker": {
          "size": 1.4953487812212205
         },
         "name": "1280x735",
         "text": "5",
         "type": "scatter",
         "x": [
          1280
         ],
         "y": [
          735
         ]
        },
        {
         "marker": {
          "size": 3.902761357260756
         },
         "name": "1280x742",
         "text": "232",
         "type": "scatter",
         "x": [
          1280
         ],
         "y": [
          742
         ]
        },
        {
         "marker": {
          "size": 1.5650845800732873
         },
         "name": "1280x685",
         "text": "6",
         "type": "scatter",
         "x": [
          1280
         ],
         "y": [
          685
         ]
        },
        {
         "marker": {
          "size": 1.4142135623730951
         },
         "name": "1280x704",
         "text": "4",
         "type": "scatter",
         "x": [
          1280
         ],
         "y": [
          704
         ]
        },
        {
         "marker": {
          "size": 3.683023210115643
         },
         "name": "1280x778",
         "text": "184",
         "type": "scatter",
         "x": [
          1280
         ],
         "y": [
          778
         ]
        },
        {
         "marker": {
          "size": 3.439790628250393
         },
         "name": "1280x754",
         "text": "140",
         "type": "scatter",
         "x": [
          1280
         ],
         "y": [
          754
         ]
        },
        {
         "marker": {
          "size": 1.7320508075688772
         },
         "name": "1080x811",
         "text": "9",
         "type": "scatter",
         "x": [
          1080
         ],
         "y": [
          811
         ]
        },
        {
         "marker": {
          "size": 3.4701000819561814
         },
         "name": "1092x846",
         "text": "145",
         "type": "scatter",
         "x": [
          1092
         ],
         "y": [
          846
         ]
        },
        {
         "marker": {
          "size": 3.80675409583932
         },
         "name": "1280x822",
         "text": "210",
         "type": "scatter",
         "x": [
          1280
         ],
         "y": [
          822
         ]
        },
        {
         "marker": {
          "size": 1.8612097182041991
         },
         "name": "1280x1100",
         "text": "12",
         "type": "scatter",
         "x": [
          1280
         ],
         "y": [
          1100
         ]
        },
        {
         "marker": {
          "size": 2.6457513110645907
         },
         "name": "1039x807",
         "text": "49",
         "type": "scatter",
         "x": [
          1039
         ],
         "y": [
          807
         ]
        },
        {
         "marker": {
          "size": 1.9679896712654306
         },
         "name": "1020x764",
         "text": "15",
         "type": "scatter",
         "x": [
          1020
         ],
         "y": [
          764
         ]
        },
        {
         "marker": {
          "size": 2.1657367706679937
         },
         "name": "1032x799",
         "text": "22",
         "type": "scatter",
         "x": [
          1032
         ],
         "y": [
          799
         ]
        },
        {
         "marker": {
          "size": 2.414736402766418
         },
         "name": "1280x984",
         "text": "34",
         "type": "scatter",
         "x": [
          1280
         ],
         "y": [
          984
         ]
        },
        {
         "marker": {
          "size": 2.7108060108295344
         },
         "name": "1280x690",
         "text": "54",
         "type": "scatter",
         "x": [
          1280
         ],
         "y": [
          690
         ]
        },
        {
         "marker": {
          "size": 1.6817928305074292
         },
         "name": "207x135",
         "text": "8",
         "type": "scatter",
         "x": [
          207
         ],
         "y": [
          135
         ]
        },
        {
         "marker": {
          "size": 2.9813075013013317
         },
         "name": "1280x698",
         "text": "79",
         "type": "scatter",
         "x": [
          1280
         ],
         "y": [
          698
         ]
        },
        {
         "marker": {
          "size": 3.4336316230125203
         },
         "name": "1280x740",
         "text": "139",
         "type": "scatter",
         "x": [
          1280
         ],
         "y": [
          740
         ]
        },
        {
         "marker": {
          "size": 3.3234561855374687
         },
         "name": "1280x843",
         "text": "122",
         "type": "scatter",
         "x": [
          1280
         ],
         "y": [
          843
         ]
        },
        {
         "marker": {
          "size": 6.053673628766039
         },
         "name": "1280x723",
         "text": "1343",
         "type": "scatter",
         "x": [
          1280
         ],
         "y": [
          723
         ]
        },
        {
         "marker": {
          "size": 1.6265765616977859
         },
         "name": "1280x702",
         "text": "7",
         "type": "scatter",
         "x": [
          1280
         ],
         "y": [
          702
         ]
        },
        {
         "marker": {
          "size": 1.5650845800732873
         },
         "name": "1280x957",
         "text": "6",
         "type": "scatter",
         "x": [
          1280
         ],
         "y": [
          957
         ]
        },
        {
         "marker": {
          "size": 1.189207115002721
         },
         "name": "1280x935",
         "text": "2",
         "type": "scatter",
         "x": [
          1280
         ],
         "y": [
          935
         ]
        },
        {
         "marker": {
          "size": 4.651161968023038
         },
         "name": "1280x738",
         "text": "468",
         "type": "scatter",
         "x": [
          1280
         ],
         "y": [
          738
         ]
        },
        {
         "marker": {
          "size": 2.114742526881128
         },
         "name": "1238x698",
         "text": "20",
         "type": "scatter",
         "x": [
          1238
         ],
         "y": [
          698
         ]
        },
        {
         "marker": {
          "size": 4.13729897017652
         },
         "name": "1280x823",
         "text": "293",
         "type": "scatter",
         "x": [
          1280
         ],
         "y": [
          823
         ]
        },
        {
         "marker": {
          "size": 3.528441525374727
         },
         "name": "1280x853",
         "text": "155",
         "type": "scatter",
         "x": [
          1280
         ],
         "y": [
          853
         ]
        },
        {
         "marker": {
          "size": 2.6321480259049848
         },
         "name": "1280x746",
         "text": "48",
         "type": "scatter",
         "x": [
          1280
         ],
         "y": [
          746
         ]
        },
        {
         "marker": {
          "size": 1.189207115002721
         },
         "name": "844x535",
         "text": "2",
         "type": "scatter",
         "x": [
          844
         ],
         "y": [
          535
         ]
        },
        {
         "marker": {
          "size": 1.9679896712654306
         },
         "name": "832x500",
         "text": "15",
         "type": "scatter",
         "x": [
          832
         ],
         "y": [
          500
         ]
        },
        {
         "marker": {
          "size": 1.189207115002721
         },
         "name": "1280x764",
         "text": "2",
         "type": "scatter",
         "x": [
          1280
         ],
         "y": [
          764
         ]
        },
        {
         "marker": {
          "size": 1.5650845800732873
         },
         "name": "1280x1080",
         "text": "6",
         "type": "scatter",
         "x": [
          1280
         ],
         "y": [
          1080
         ]
        },
        {
         "marker": {
          "size": 1
         },
         "name": "1280x1088",
         "text": "1",
         "type": "scatter",
         "x": [
          1280
         ],
         "y": [
          1088
         ]
        },
        {
         "marker": {
          "size": 2.7596690210718946
         },
         "name": "1280x671",
         "text": "58",
         "type": "scatter",
         "x": [
          1280
         ],
         "y": [
          671
         ]
        },
        {
         "marker": {
          "size": 2.213363839400643
         },
         "name": "1280x692",
         "text": "24",
         "type": "scatter",
         "x": [
          1280
         ],
         "y": [
          692
         ]
        },
        {
         "marker": {
          "size": 1.189207115002721
         },
         "name": "1280x673",
         "text": "2",
         "type": "scatter",
         "x": [
          1280
         ],
         "y": [
          673
         ]
        },
        {
         "marker": {
          "size": 2.892507608519078
         },
         "name": "1280x770",
         "text": "70",
         "type": "scatter",
         "x": [
          1280
         ],
         "y": [
          770
         ]
        },
        {
         "marker": {
          "size": 4.789017632287381
         },
         "name": "1280x828",
         "text": "526",
         "type": "scatter",
         "x": [
          1280
         ],
         "y": [
          828
         ]
        },
        {
         "marker": {
          "size": 1.6265765616977859
         },
         "name": "1280x1114",
         "text": "7",
         "type": "scatter",
         "x": [
          1280
         ],
         "y": [
          1114
         ]
        },
        {
         "marker": {
          "size": 1
         },
         "name": "1276x747",
         "text": "1",
         "type": "scatter",
         "x": [
          1276
         ],
         "y": [
          747
         ]
        },
        {
         "marker": {
          "size": 4.147848904442549
         },
         "name": "1280x802",
         "text": "296",
         "type": "scatter",
         "x": [
          1280
         ],
         "y": [
          802
         ]
        },
        {
         "marker": {
          "size": 1.7782794100389228
         },
         "name": "1018x791",
         "text": "10",
         "type": "scatter",
         "x": [
          1018
         ],
         "y": [
          791
         ]
        },
        {
         "marker": {
          "size": 1.5650845800732873
         },
         "name": "1280x952",
         "text": "6",
         "type": "scatter",
         "x": [
          1280
         ],
         "y": [
          952
         ]
        },
        {
         "marker": {
          "size": 1.3160740129524924
         },
         "name": "1280x930",
         "text": "3",
         "type": "scatter",
         "x": [
          1280
         ],
         "y": [
          930
         ]
        },
        {
         "marker": {
          "size": 2.923012785691765
         },
         "name": "1280x1049",
         "text": "73",
         "type": "scatter",
         "x": [
          1280
         ],
         "y": [
          1049
         ]
        },
        {
         "marker": {
          "size": 3.1779718278112656
         },
         "name": "1280x726",
         "text": "102",
         "type": "scatter",
         "x": [
          1280
         ],
         "y": [
          726
         ]
        },
        {
         "marker": {
          "size": 1.4142135623730951
         },
         "name": "1280x939",
         "text": "4",
         "type": "scatter",
         "x": [
          1280
         ],
         "y": [
          939
         ]
        },
        {
         "marker": {
          "size": 1.189207115002721
         },
         "name": "1280x921",
         "text": "2",
         "type": "scatter",
         "x": [
          1280
         ],
         "y": [
          921
         ]
        },
        {
         "marker": {
          "size": 1.4953487812212205
         },
         "name": "1280x943",
         "text": "5",
         "type": "scatter",
         "x": [
          1280
         ],
         "y": [
          943
         ]
        },
        {
         "marker": {
          "size": 1.7320508075688772
         },
         "name": "1280x679",
         "text": "9",
         "type": "scatter",
         "x": [
          1280
         ],
         "y": [
          679
         ]
        },
        {
         "marker": {
          "size": 7.538772377087087
         },
         "name": "1280x724",
         "text": "3230",
         "type": "scatter",
         "x": [
          1280
         ],
         "y": [
          724
         ]
        },
        {
         "marker": {
          "size": 1.8612097182041991
         },
         "name": "1280x1056",
         "text": "12",
         "type": "scatter",
         "x": [
          1280
         ],
         "y": [
          1056
         ]
        },
        {
         "marker": {
          "size": 1.4142135623730951
         },
         "name": "1280x1128",
         "text": "4",
         "type": "scatter",
         "x": [
          1280
         ],
         "y": [
          1128
         ]
        },
        {
         "marker": {
          "size": 1.4953487812212205
         },
         "name": "1280x1043",
         "text": "5",
         "type": "scatter",
         "x": [
          1280
         ],
         "y": [
          1043
         ]
        },
        {
         "marker": {
          "size": 1.5650845800732873
         },
         "name": "1280x1126",
         "text": "6",
         "type": "scatter",
         "x": [
          1280
         ],
         "y": [
          1126
         ]
        },
        {
         "marker": {
          "size": 1.7782794100389228
         },
         "name": "1024x796",
         "text": "10",
         "type": "scatter",
         "x": [
          1024
         ],
         "y": [
          796
         ]
        },
        {
         "marker": {
          "size": 2.2581008643532257
         },
         "name": "1012x761",
         "text": "26",
         "type": "scatter",
         "x": [
          1012
         ],
         "y": [
          761
         ]
        },
        {
         "marker": {
          "size": 1.4953487812212205
         },
         "name": "1280x1050",
         "text": "5",
         "type": "scatter",
         "x": [
          1280
         ],
         "y": [
          1050
         ]
        },
        {
         "marker": {
          "size": 1.6817928305074292
         },
         "name": "1280x670",
         "text": "8",
         "type": "scatter",
         "x": [
          1280
         ],
         "y": [
          670
         ]
        },
        {
         "marker": {
          "size": 1
         },
         "name": "735x386",
         "text": "1",
         "type": "scatter",
         "x": [
          735
         ],
         "y": [
          386
         ]
        },
        {
         "marker": {
          "size": 1.7320508075688772
         },
         "name": "1230x721",
         "text": "9",
         "type": "scatter",
         "x": [
          1230
         ],
         "y": [
          721
         ]
        },
        {
         "marker": {
          "size": 2.530439534435243
         },
         "name": "1218x686",
         "text": "41",
         "type": "scatter",
         "x": [
          1218
         ],
         "y": [
          686
         ]
        },
        {
         "marker": {
          "size": 1.6265765616977859
         },
         "name": "1280x1012",
         "text": "7",
         "type": "scatter",
         "x": [
          1280
         ],
         "y": [
          1012
         ]
        },
        {
         "marker": {
          "size": 2.9622566376652992
         },
         "name": "1280x686",
         "text": "77",
         "type": "scatter",
         "x": [
          1280
         ],
         "y": [
          686
         ]
        },
        {
         "marker": {
          "size": 1.4953487812212205
         },
         "name": "1154x650",
         "text": "5",
         "type": "scatter",
         "x": [
          1154
         ],
         "y": [
          650
         ]
        },
        {
         "marker": {
          "size": 1
         },
         "name": "522x326",
         "text": "1",
         "type": "scatter",
         "x": [
          522
         ],
         "y": [
          326
         ]
        },
        {
         "marker": {
          "size": 1.6817928305074292
         },
         "name": "510x291",
         "text": "8",
         "type": "scatter",
         "x": [
          510
         ],
         "y": [
          291
         ]
        },
        {
         "marker": {
          "size": 1.5650845800732873
         },
         "name": "1280x966",
         "text": "6",
         "type": "scatter",
         "x": [
          1280
         ],
         "y": [
          966
         ]
        },
        {
         "marker": {
          "size": 4.909576518029626
         },
         "name": "1280x748",
         "text": "581",
         "type": "scatter",
         "x": [
          1280
         ],
         "y": [
          748
         ]
        },
        {
         "marker": {
          "size": 1.3160740129524924
         },
         "name": "1032x795",
         "text": "3",
         "type": "scatter",
         "x": [
          1032
         ],
         "y": [
          795
         ]
        },
        {
         "marker": {
          "size": 1.4953487812212205
         },
         "name": "1280x1005",
         "text": "5",
         "type": "scatter",
         "x": [
          1280
         ],
         "y": [
          1005
         ]
        },
        {
         "marker": {
          "size": 1
         },
         "name": "1274x798",
         "text": "1",
         "type": "scatter",
         "x": [
          1274
         ],
         "y": [
          798
         ]
        },
        {
         "marker": {
          "size": 3.5565588200778455
         },
         "name": "1280x816",
         "text": "160",
         "type": "scatter",
         "x": [
          1280
         ],
         "y": [
          816
         ]
        },
        {
         "marker": {
          "size": 2
         },
         "name": "1280x699",
         "text": "16",
         "type": "scatter",
         "x": [
          1280
         ],
         "y": [
          699
         ]
        },
        {
         "marker": {
          "size": 1.4953487812212205
         },
         "name": "1280x681",
         "text": "5",
         "type": "scatter",
         "x": [
          1280
         ],
         "y": [
          681
         ]
        },
        {
         "marker": {
          "size": 1.9679896712654306
         },
         "name": "1204x679",
         "text": "15",
         "type": "scatter",
         "x": [
          1204
         ],
         "y": [
          679
         ]
        },
        {
         "marker": {
          "size": 1.5650845800732873
         },
         "name": "1216x714",
         "text": "6",
         "type": "scatter",
         "x": [
          1216
         ],
         "y": [
          714
         ]
        },
        {
         "marker": {
          "size": 1
         },
         "name": "895x475",
         "text": "1",
         "type": "scatter",
         "x": [
          895
         ],
         "y": [
          475
         ]
        },
        {
         "marker": {
          "size": 1
         },
         "name": "136x102",
         "text": "1",
         "type": "scatter",
         "x": [
          136
         ],
         "y": [
          102
         ]
        },
        {
         "marker": {
          "size": 1
         },
         "name": "193x132",
         "text": "1",
         "type": "scatter",
         "x": [
          193
         ],
         "y": [
          132
         ]
        },
        {
         "marker": {
          "size": 1.3160740129524924
         },
         "name": "1280x1003",
         "text": "3",
         "type": "scatter",
         "x": [
          1280
         ],
         "y": [
          1003
         ]
        },
        {
         "marker": {
          "size": 1.9679896712654306
         },
         "name": "1278x800",
         "text": "15",
         "type": "scatter",
         "x": [
          1278
         ],
         "y": [
          800
         ]
        },
        {
         "marker": {
          "size": 2.087797629929844
         },
         "name": "1280x1044",
         "text": "19",
         "type": "scatter",
         "x": [
          1280
         ],
         "y": [
          1044
         ]
        },
        {
         "marker": {
          "size": 1.6817928305074292
         },
         "name": "546x311",
         "text": "8",
         "type": "scatter",
         "x": [
          546
         ],
         "y": [
          311
         ]
        },
        {
         "marker": {
          "size": 3.7792667089113596
         },
         "name": "1280x745",
         "text": "204",
         "type": "scatter",
         "x": [
          1280
         ],
         "y": [
          745
         ]
        },
        {
         "marker": {
          "size": 1.6265765616977859
         },
         "name": "351x675",
         "text": "7",
         "type": "scatter",
         "x": [
          351
         ],
         "y": [
          675
         ]
        },
        {
         "marker": {
          "size": 1.8612097182041991
         },
         "name": "1280x1103",
         "text": "12",
         "type": "scatter",
         "x": [
          1280
         ],
         "y": [
          1103
         ]
        },
        {
         "marker": {
          "size": 2.378414230005442
         },
         "name": "1205x707",
         "text": "32",
         "type": "scatter",
         "x": [
          1205
         ],
         "y": [
          707
         ]
        },
        {
         "marker": {
          "size": 1.189207115002721
         },
         "name": "1038x679",
         "text": "2",
         "type": "scatter",
         "x": [
          1038
         ],
         "y": [
          679
         ]
        },
        {
         "marker": {
          "size": 1
         },
         "name": "458x370",
         "text": "1",
         "type": "scatter",
         "x": [
          458
         ],
         "y": [
          370
         ]
        },
        {
         "marker": {
          "size": 1
         },
         "name": "446x335",
         "text": "1",
         "type": "scatter",
         "x": [
          446
         ],
         "y": [
          335
         ]
        },
        {
         "marker": {
          "size": 1.189207115002721
         },
         "name": "161x121",
         "text": "2",
         "type": "scatter",
         "x": [
          161
         ],
         "y": [
          121
         ]
        },
        {
         "marker": {
          "size": 2.340347319320716
         },
         "name": "1280x773",
         "text": "30",
         "type": "scatter",
         "x": [
          1280
         ],
         "y": [
          773
         ]
        },
        {
         "marker": {
          "size": 1.6265765616977859
         },
         "name": "1280x1038",
         "text": "7",
         "type": "scatter",
         "x": [
          1280
         ],
         "y": [
          1038
         ]
        },
        {
         "marker": {
          "size": 1.4953487812212205
         },
         "name": "1172x689",
         "text": "5",
         "type": "scatter",
         "x": [
          1172
         ],
         "y": [
          689
         ]
        },
        {
         "marker": {
          "size": 1.7782794100389228
         },
         "name": "1280x959",
         "text": "10",
         "type": "scatter",
         "x": [
          1280
         ],
         "y": [
          959
         ]
        },
        {
         "marker": {
          "size": 2.39678172692843
         },
         "name": "1193x672",
         "text": "33",
         "type": "scatter",
         "x": [
          1193
         ],
         "y": [
          672
         ]
        },
        {
         "marker": {
          "size": 1.9679896712654306
         },
         "name": "208x181",
         "text": "15",
         "type": "scatter",
         "x": [
          208
         ],
         "y": [
          181
         ]
        },
        {
         "marker": {
          "size": 1.6817928305074292
         },
         "name": "1177x765",
         "text": "8",
         "type": "scatter",
         "x": [
          1177
         ],
         "y": [
          765
         ]
        },
        {
         "marker": {
          "size": 1.8612097182041991
         },
         "name": "1165x730",
         "text": "12",
         "type": "scatter",
         "x": [
          1165
         ],
         "y": [
          730
         ]
        },
        {
         "marker": {
          "size": 1.189207115002721
         },
         "name": "1256x737",
         "text": "2",
         "type": "scatter",
         "x": [
          1256
         ],
         "y": [
          737
         ]
        },
        {
         "marker": {
          "size": 1.6817928305074292
         },
         "name": "1194x674",
         "text": "8",
         "type": "scatter",
         "x": [
          1194
         ],
         "y": [
          674
         ]
        },
        {
         "marker": {
          "size": 2.340347319320716
         },
         "name": "1280x703",
         "text": "30",
         "type": "scatter",
         "x": [
          1280
         ],
         "y": [
          703
         ]
        },
        {
         "marker": {
          "size": 1
         },
         "name": "989x533",
         "text": "1",
         "type": "scatter",
         "x": [
          989
         ],
         "y": [
          533
         ]
        },
        {
         "marker": {
          "size": 1
         },
         "name": "1001x568",
         "text": "1",
         "type": "scatter",
         "x": [
          1001
         ],
         "y": [
          568
         ]
        },
        {
         "marker": {
          "size": 1.6265765616977859
         },
         "name": "1280x1019",
         "text": "7",
         "type": "scatter",
         "x": [
          1280
         ],
         "y": [
          1019
         ]
        },
        {
         "marker": {
          "size": 2
         },
         "name": "1158x654",
         "text": "16",
         "type": "scatter",
         "x": [
          1158
         ],
         "y": [
          654
         ]
        },
        {
         "marker": {
          "size": 1.6265765616977859
         },
         "name": "1280x845",
         "text": "7",
         "type": "scatter",
         "x": [
          1280
         ],
         "y": [
          845
         ]
        },
        {
         "marker": {
          "size": 1.4142135623730951
         },
         "name": "1170x689",
         "text": "4",
         "type": "scatter",
         "x": [
          1170
         ],
         "y": [
          689
         ]
        },
        {
         "marker": {
          "size": 2.2581008643532257
         },
         "name": "1038x586",
         "text": "26",
         "type": "scatter",
         "x": [
          1038
         ],
         "y": [
          586
         ]
        },
        {
         "marker": {
          "size": 1.4142135623730951
         },
         "name": "1050x621",
         "text": "4",
         "type": "scatter",
         "x": [
          1050
         ],
         "y": [
          621
         ]
        },
        {
         "marker": {
          "size": 1.6817928305074292
         },
         "name": "1280x836",
         "text": "8",
         "type": "scatter",
         "x": [
          1280
         ],
         "y": [
          836
         ]
        },
        {
         "marker": {
          "size": 1.6817928305074292
         },
         "name": "848x579",
         "text": "8",
         "type": "scatter",
         "x": [
          848
         ],
         "y": [
          579
         ]
        },
        {
         "marker": {
          "size": 1
         },
         "name": "834x525",
         "text": "1",
         "type": "scatter",
         "x": [
          834
         ],
         "y": [
          525
         ]
        },
        {
         "marker": {
          "size": 1.7782794100389228
         },
         "name": "1072x633",
         "text": "10",
         "type": "scatter",
         "x": [
          1072
         ],
         "y": [
          633
         ]
        },
        {
         "marker": {
          "size": 1.7320508075688772
         },
         "name": "1145x674",
         "text": "9",
         "type": "scatter",
         "x": [
          1145
         ],
         "y": [
          674
         ]
        },
        {
         "marker": {
          "size": 1
         },
         "name": "1133x639",
         "text": "1",
         "type": "scatter",
         "x": [
          1133
         ],
         "y": [
          639
         ]
        },
        {
         "marker": {
          "size": 2.46632571455966
         },
         "name": "1280x1002",
         "text": "37",
         "type": "scatter",
         "x": [
          1280
         ],
         "y": [
          1002
         ]
        },
        {
         "marker": {
          "size": 1
         },
         "name": "677x423",
         "text": "1",
         "type": "scatter",
         "x": [
          677
         ],
         "y": [
          423
         ]
        },
        {
         "marker": {
          "size": 2.189938703094842
         },
         "name": "1280x833",
         "text": "23",
         "type": "scatter",
         "x": [
          1280
         ],
         "y": [
          833
         ]
        },
        {
         "marker": {
          "size": 1.189207115002721
         },
         "name": "1280x1185",
         "text": "2",
         "type": "scatter",
         "x": [
          1280
         ],
         "y": [
          1185
         ]
        },
        {
         "marker": {
          "size": 1.189207115002721
         },
         "name": "1280x1153",
         "text": "2",
         "type": "scatter",
         "x": [
          1280
         ],
         "y": [
          1153
         ]
        },
        {
         "marker": {
          "size": 1.4953487812212205
         },
         "name": "882x547",
         "text": "5",
         "type": "scatter",
         "x": [
          882
         ],
         "y": [
          547
         ]
        },
        {
         "marker": {
          "size": 1.5650845800732873
         },
         "name": "1280x1175",
         "text": "6",
         "type": "scatter",
         "x": [
          1280
         ],
         "y": [
          1175
         ]
        },
        {
         "marker": {
          "size": 1.9679896712654306
         },
         "name": "1248x704",
         "text": "15",
         "type": "scatter",
         "x": [
          1248
         ],
         "y": [
          704
         ]
        },
        {
         "marker": {
          "size": 1
         },
         "name": "1280x1143",
         "text": "1",
         "type": "scatter",
         "x": [
          1280
         ],
         "y": [
          1143
         ]
        },
        {
         "marker": {
          "size": 1.4953487812212205
         },
         "name": "1260x739",
         "text": "5",
         "type": "scatter",
         "x": [
          1260
         ],
         "y": [
          739
         ]
        },
        {
         "marker": {
          "size": 1.7782794100389228
         },
         "name": "1280x696",
         "text": "10",
         "type": "scatter",
         "x": [
          1280
         ],
         "y": [
          696
         ]
        },
        {
         "marker": {
          "size": 1
         },
         "name": "367x208",
         "text": "1",
         "type": "scatter",
         "x": [
          367
         ],
         "y": [
          208
         ]
        },
        {
         "marker": {
          "size": 1.6265765616977859
         },
         "name": "262x177",
         "text": "7",
         "type": "scatter",
         "x": [
          262
         ],
         "y": [
          177
         ]
        },
        {
         "marker": {
          "size": 1
         },
         "name": "250x142",
         "text": "1",
         "type": "scatter",
         "x": [
          250
         ],
         "y": [
          142
         ]
        },
        {
         "marker": {
          "size": 2.4828237961983883
         },
         "name": "1280x799",
         "text": "38",
         "type": "scatter",
         "x": [
          1280
         ],
         "y": [
          799
         ]
        },
        {
         "marker": {
          "size": 1.4953487812212205
         },
         "name": "344x345",
         "text": "5",
         "type": "scatter",
         "x": [
          344
         ],
         "y": [
          345
         ]
        },
        {
         "marker": {
          "size": 1.3160740129524924
         },
         "name": "348x372",
         "text": "3",
         "type": "scatter",
         "x": [
          348
         ],
         "y": [
          372
         ]
        },
        {
         "marker": {
          "size": 1.4953487812212205
         },
         "name": "1280x999",
         "text": "5",
         "type": "scatter",
         "x": [
          1280
         ],
         "y": [
          999
         ]
        },
        {
         "marker": {
          "size": 1.6265765616977859
         },
         "name": "1280x1045",
         "text": "7",
         "type": "scatter",
         "x": [
          1280
         ],
         "y": [
          1045
         ]
        },
        {
         "marker": {
          "size": 2.5755095769013945
         },
         "name": "1280x540",
         "text": "44",
         "type": "scatter",
         "x": [
          1280
         ],
         "y": [
          540
         ]
        },
        {
         "marker": {
          "size": 2.6457513110645907
         },
         "name": "1280x556",
         "text": "49",
         "type": "scatter",
         "x": [
          1280
         ],
         "y": [
          556
         ]
        },
        {
         "marker": {
          "size": 1.189207115002721
         },
         "name": "1239x727",
         "text": "2",
         "type": "scatter",
         "x": [
          1239
         ],
         "y": [
          727
         ]
        },
        {
         "marker": {
          "size": 1.4142135623730951
         },
         "name": "1280x996",
         "text": "4",
         "type": "scatter",
         "x": [
          1280
         ],
         "y": [
          996
         ]
        },
        {
         "marker": {
          "size": 1.4142135623730951
         },
         "name": "1280x1063",
         "text": "4",
         "type": "scatter",
         "x": [
          1280
         ],
         "y": [
          1063
         ]
        },
        {
         "marker": {
          "size": 1.4953487812212205
         },
         "name": "1280x1204",
         "text": "5",
         "type": "scatter",
         "x": [
          1280
         ],
         "y": [
          1204
         ]
        },
        {
         "marker": {
          "size": 2.8284271247461903
         },
         "name": "1022x770",
         "text": "64",
         "type": "scatter",
         "x": [
          1022
         ],
         "y": [
          770
         ]
        },
        {
         "marker": {
          "size": 2.1657367706679937
         },
         "name": "1034x805",
         "text": "22",
         "type": "scatter",
         "x": [
          1034
         ],
         "y": [
          805
         ]
        },
        {
         "marker": {
          "size": 2.2795070569547775
         },
         "name": "1260x737",
         "text": "27",
         "type": "scatter",
         "x": [
          1260
         ],
         "y": [
          737
         ]
        },
        {
         "marker": {
          "size": 1.9679896712654306
         },
         "name": "1280x1061",
         "text": "15",
         "type": "scatter",
         "x": [
          1280
         ],
         "y": [
          1061
         ]
        },
        {
         "marker": {
          "size": 1
         },
         "name": "1174x690",
         "text": "1",
         "type": "scatter",
         "x": [
          1174
         ],
         "y": [
          690
         ]
        },
        {
         "marker": {
          "size": 1.8988289221159418
         },
         "name": "1088x613",
         "text": "13",
         "type": "scatter",
         "x": [
          1088
         ],
         "y": [
          613
         ]
        },
        {
         "marker": {
          "size": 1.4953487812212205
         },
         "name": "1100x648",
         "text": "5",
         "type": "scatter",
         "x": [
          1100
         ],
         "y": [
          648
         ]
        },
        {
         "marker": {
          "size": 1.7782794100389228
         },
         "name": "1280x1058",
         "text": "10",
         "type": "scatter",
         "x": [
          1280
         ],
         "y": [
          1058
         ]
        },
        {
         "marker": {
          "size": 1.189207115002721
         },
         "name": "543x408",
         "text": "2",
         "type": "scatter",
         "x": [
          543
         ],
         "y": [
          408
         ]
        },
        {
         "marker": {
          "size": 1.4142135623730951
         },
         "name": "262x197",
         "text": "4",
         "type": "scatter",
         "x": [
          262
         ],
         "y": [
          197
         ]
        },
        {
         "marker": {
          "size": 1
         },
         "name": "133x100",
         "text": "1",
         "type": "scatter",
         "x": [
          133
         ],
         "y": [
          100
         ]
        },
        {
         "marker": {
          "size": 3.976353643835253
         },
         "name": "1280x753",
         "text": "250",
         "type": "scatter",
         "x": [
          1280
         ],
         "y": [
          753
         ]
        },
        {
         "marker": {
          "size": 1
         },
         "name": "1100x1047",
         "text": "1",
         "type": "scatter",
         "x": [
          1100
         ],
         "y": [
          1047
         ]
        },
        {
         "marker": {
          "size": 1.7782794100389228
         },
         "name": "1280x1059",
         "text": "10",
         "type": "scatter",
         "x": [
          1280
         ],
         "y": [
          1059
         ]
        },
        {
         "marker": {
          "size": 1.4953487812212205
         },
         "name": "1182x670",
         "text": "5",
         "type": "scatter",
         "x": [
          1182
         ],
         "y": [
          670
         ]
        },
        {
         "marker": {
          "size": 1.3160740129524924
         },
         "name": "1194x711",
         "text": "3",
         "type": "scatter",
         "x": [
          1194
         ],
         "y": [
          711
         ]
        },
        {
         "marker": {
          "size": 1.4142135623730951
         },
         "name": "1280x1000",
         "text": "4",
         "type": "scatter",
         "x": [
          1280
         ],
         "y": [
          1000
         ]
        },
        {
         "marker": {
          "size": 1.5650845800732873
         },
         "name": "1242x694",
         "text": "6",
         "type": "scatter",
         "x": [
          1242
         ],
         "y": [
          694
         ]
        },
        {
         "marker": {
          "size": 1
         },
         "name": "1254x729",
         "text": "1",
         "type": "scatter",
         "x": [
          1254
         ],
         "y": [
          729
         ]
        },
        {
         "marker": {
          "size": 1
         },
         "name": "201x114",
         "text": "1",
         "type": "scatter",
         "x": [
          201
         ],
         "y": [
          114
         ]
        },
        {
         "marker": {
          "size": 1.189207115002721
         },
         "name": "227x128",
         "text": "2",
         "type": "scatter",
         "x": [
          227
         ],
         "y": [
          128
         ]
        },
        {
         "marker": {
          "size": 1.6817928305074292
         },
         "name": "1141x743",
         "text": "8",
         "type": "scatter",
         "x": [
          1141
         ],
         "y": [
          743
         ]
        },
        {
         "marker": {
          "size": 1.5650845800732873
         },
         "name": "1129x708",
         "text": "6",
         "type": "scatter",
         "x": [
          1129
         ],
         "y": [
          708
         ]
        },
        {
         "marker": {
          "size": 1.7320508075688772
         },
         "name": "1280x1139",
         "text": "9",
         "type": "scatter",
         "x": [
          1280
         ],
         "y": [
          1139
         ]
        },
        {
         "marker": {
          "size": 1.6817928305074292
         },
         "name": "1280x1062",
         "text": "8",
         "type": "scatter",
         "x": [
          1280
         ],
         "y": [
          1062
         ]
        },
        {
         "marker": {
          "size": 1.5650845800732873
         },
         "name": "1280x1095",
         "text": "6",
         "type": "scatter",
         "x": [
          1280
         ],
         "y": [
          1095
         ]
        },
        {
         "marker": {
          "size": 1.8211602868378718
         },
         "name": "1280x1075",
         "text": "11",
         "type": "scatter",
         "x": [
          1280
         ],
         "y": [
          1075
         ]
        },
        {
         "marker": {
          "size": 1.4953487812212205
         },
         "name": "1280x760",
         "text": "5",
         "type": "scatter",
         "x": [
          1280
         ],
         "y": [
          760
         ]
        },
        {
         "marker": {
          "size": 2.806066263296683
         },
         "name": "1280x751",
         "text": "62",
         "type": "scatter",
         "x": [
          1280
         ],
         "y": [
          751
         ]
        },
        {
         "marker": {
          "size": 1.6817928305074292
         },
         "name": "1280x711",
         "text": "8",
         "type": "scatter",
         "x": [
          1280
         ],
         "y": [
          711
         ]
        },
        {
         "marker": {
          "size": 1.3160740129524924
         },
         "name": "914x687",
         "text": "3",
         "type": "scatter",
         "x": [
          914
         ],
         "y": [
          687
         ]
        },
        {
         "marker": {
          "size": 1.4953487812212205
         },
         "name": "926x722",
         "text": "5",
         "type": "scatter",
         "x": [
          926
         ],
         "y": [
          722
         ]
        },
        {
         "marker": {
          "size": 1
         },
         "name": "1270x744",
         "text": "1",
         "type": "scatter",
         "x": [
          1270
         ],
         "y": [
          744
         ]
        },
        {
         "marker": {
          "size": 2
         },
         "name": "1258x709",
         "text": "16",
         "type": "scatter",
         "x": [
          1258
         ],
         "y": [
          709
         ]
        },
        {
         "marker": {
          "size": 1.6817928305074292
         },
         "name": "1280x1111",
         "text": "8",
         "type": "scatter",
         "x": [
          1280
         ],
         "y": [
          1111
         ]
        },
        {
         "marker": {
          "size": 1
         },
         "name": "361x685",
         "text": "1",
         "type": "scatter",
         "x": [
          361
         ],
         "y": [
          685
         ]
        },
        {
         "marker": {
          "size": 1.6265765616977859
         },
         "name": "1280x1108",
         "text": "7",
         "type": "scatter",
         "x": [
          1280
         ],
         "y": [
          1108
         ]
        },
        {
         "marker": {
          "size": 1.6265765616977859
         },
         "name": "1280x1035",
         "text": "7",
         "type": "scatter",
         "x": [
          1280
         ],
         "y": [
          1035
         ]
        },
        {
         "marker": {
          "size": 1
         },
         "name": "1280x1159",
         "text": "1",
         "type": "scatter",
         "x": [
          1280
         ],
         "y": [
          1159
         ]
        },
        {
         "marker": {
          "size": 1.5650845800732873
         },
         "name": "1280x1109",
         "text": "6",
         "type": "scatter",
         "x": [
          1280
         ],
         "y": [
          1109
         ]
        },
        {
         "marker": {
          "size": 2.7476962050544724
         },
         "name": "1280x797",
         "text": "57",
         "type": "scatter",
         "x": [
          1280
         ],
         "y": [
          797
         ]
        },
        {
         "marker": {
          "size": 1.6265765616977859
         },
         "name": "1280x1068",
         "text": "7",
         "type": "scatter",
         "x": [
          1280
         ],
         "y": [
          1068
         ]
        },
        {
         "marker": {
          "size": 2.892507608519078
         },
         "name": "1280x1078",
         "text": "70",
         "type": "scatter",
         "x": [
          1280
         ],
         "y": [
          1078
         ]
        },
        {
         "marker": {
          "size": 1.6817928305074292
         },
         "name": "1280x1163",
         "text": "8",
         "type": "scatter",
         "x": [
          1280
         ],
         "y": [
          1163
         ]
        },
        {
         "marker": {
          "size": 1.9343364202676694
         },
         "name": "1280x1016",
         "text": "14",
         "type": "scatter",
         "x": [
          1280
         ],
         "y": [
          1016
         ]
        },
        {
         "marker": {
          "size": 1.7782794100389228
         },
         "name": "1146x646",
         "text": "10",
         "type": "scatter",
         "x": [
          1146
         ],
         "y": [
          646
         ]
        },
        {
         "marker": {
          "size": 1.6265765616977859
         },
         "name": "1158x681",
         "text": "7",
         "type": "scatter",
         "x": [
          1158
         ],
         "y": [
          681
         ]
        },
        {
         "marker": {
          "size": 1.3160740129524924
         },
         "name": "1126x664",
         "text": "3",
         "type": "scatter",
         "x": [
          1126
         ],
         "y": [
          664
         ]
        },
        {
         "marker": {
          "size": 1.4142135623730951
         },
         "name": "1114x629",
         "text": "4",
         "type": "scatter",
         "x": [
          1114
         ],
         "y": [
          629
         ]
        },
        {
         "marker": {
          "size": 1.189207115002721
         },
         "name": "1184x696",
         "text": "2",
         "type": "scatter",
         "x": [
          1184
         ],
         "y": [
          696
         ]
        },
        {
         "marker": {
          "size": 1.8211602868378718
         },
         "name": "1172x661",
         "text": "11",
         "type": "scatter",
         "x": [
          1172
         ],
         "y": [
          661
         ]
        },
        {
         "marker": {
          "size": 1
         },
         "name": "1280x1020",
         "text": "1",
         "type": "scatter",
         "x": [
          1280
         ],
         "y": [
          1020
         ]
        },
        {
         "marker": {
          "size": 1.4953487812212205
         },
         "name": "1280x1131",
         "text": "5",
         "type": "scatter",
         "x": [
          1280
         ],
         "y": [
          1131
         ]
        },
        {
         "marker": {
          "size": 1.7320508075688772
         },
         "name": "1280x1165",
         "text": "9",
         "type": "scatter",
         "x": [
          1280
         ],
         "y": [
          1165
         ]
        },
        {
         "marker": {
          "size": 1.5650845800732873
         },
         "name": "1280x1028",
         "text": "6",
         "type": "scatter",
         "x": [
          1280
         ],
         "y": [
          1028
         ]
        },
        {
         "marker": {
          "size": 1.6817928305074292
         },
         "name": "1098x648",
         "text": "8",
         "type": "scatter",
         "x": [
          1098
         ],
         "y": [
          648
         ]
        },
        {
         "marker": {
          "size": 1.4142135623730951
         },
         "name": "1180x695",
         "text": "4",
         "type": "scatter",
         "x": [
          1180
         ],
         "y": [
          695
         ]
        },
        {
         "marker": {
          "size": 1.8988289221159418
         },
         "name": "1280x840",
         "text": "13",
         "type": "scatter",
         "x": [
          1280
         ],
         "y": [
          840
         ]
        },
        {
         "marker": {
          "size": 2.2795070569547775
         },
         "name": "1280x981",
         "text": "27",
         "type": "scatter",
         "x": [
          1280
         ],
         "y": [
          981
         ]
        },
        {
         "marker": {
          "size": 1.4142135623730951
         },
         "name": "1168x661",
         "text": "4",
         "type": "scatter",
         "x": [
          1168
         ],
         "y": [
          661
         ]
        },
        {
         "marker": {
          "size": 1
         },
         "name": "1082x610",
         "text": "1",
         "type": "scatter",
         "x": [
          1082
         ],
         "y": [
          610
         ]
        },
        {
         "marker": {
          "size": 1
         },
         "name": "1094x645",
         "text": "1",
         "type": "scatter",
         "x": [
          1094
         ],
         "y": [
          645
         ]
        },
        {
         "marker": {
          "size": 1
         },
         "name": "1024x606",
         "text": "1",
         "type": "scatter",
         "x": [
          1024
         ],
         "y": [
          606
         ]
        },
        {
         "marker": {
          "size": 1.6265765616977859
         },
         "name": "1012x571",
         "text": "7",
         "type": "scatter",
         "x": [
          1012
         ],
         "y": [
          571
         ]
        },
        {
         "marker": {
          "size": 1.3160740129524924
         },
         "name": "1280x891",
         "text": "3",
         "type": "scatter",
         "x": [
          1280
         ],
         "y": [
          891
         ]
        },
        {
         "marker": {
          "size": 1.6817928305074292
         },
         "name": "1280x1036",
         "text": "8",
         "type": "scatter",
         "x": [
          1280
         ],
         "y": [
          1036
         ]
        },
        {
         "marker": {
          "size": 1
         },
         "name": "1149x748",
         "text": "1",
         "type": "scatter",
         "x": [
          1149
         ],
         "y": [
          748
         ]
        },
        {
         "marker": {
          "size": 2
         },
         "name": "1280x961",
         "text": "16",
         "type": "scatter",
         "x": [
          1280
         ],
         "y": [
          961
         ]
        },
        {
         "marker": {
          "size": 1.8988289221159418
         },
         "name": "1280x965",
         "text": "13",
         "type": "scatter",
         "x": [
          1280
         ],
         "y": [
          965
         ]
        },
        {
         "marker": {
          "size": 1.6265765616977859
         },
         "name": "1219x716",
         "text": "7",
         "type": "scatter",
         "x": [
          1219
         ],
         "y": [
          716
         ]
        },
        {
         "marker": {
          "size": 1.8211602868378718
         },
         "name": "1207x681",
         "text": "11",
         "type": "scatter",
         "x": [
          1207
         ],
         "y": [
          681
         ]
        },
        {
         "marker": {
          "size": 1.5650845800732873
         },
         "name": "1280x1083",
         "text": "6",
         "type": "scatter",
         "x": [
          1280
         ],
         "y": [
          1083
         ]
        },
        {
         "marker": {
          "size": 2.414736402766418
         },
         "name": "1280x963",
         "text": "34",
         "type": "scatter",
         "x": [
          1280
         ],
         "y": [
          963
         ]
        },
        {
         "marker": {
          "size": 1.6817928305074292
         },
         "name": "1280x842",
         "text": "8",
         "type": "scatter",
         "x": [
          1280
         ],
         "y": [
          842
         ]
        },
        {
         "marker": {
          "size": 1.4953487812212205
         },
         "name": "1280x950",
         "text": "5",
         "type": "scatter",
         "x": [
          1280
         ],
         "y": [
          950
         ]
        },
        {
         "marker": {
          "size": 2.340347319320716
         },
         "name": "1280x838",
         "text": "30",
         "type": "scatter",
         "x": [
          1280
         ],
         "y": [
          838
         ]
        },
        {
         "marker": {
          "size": 2.087797629929844
         },
         "name": "1280x831",
         "text": "19",
         "type": "scatter",
         "x": [
          1280
         ],
         "y": [
          831
         ]
        },
        {
         "marker": {
          "size": 1.4953487812212205
         },
         "name": "1280x1039",
         "text": "5",
         "type": "scatter",
         "x": [
          1280
         ],
         "y": [
          1039
         ]
        },
        {
         "marker": {
          "size": 1
         },
         "name": "1025x607",
         "text": "1",
         "type": "scatter",
         "x": [
          1025
         ],
         "y": [
          607
         ]
        },
        {
         "marker": {
          "size": 1.3160740129524924
         },
         "name": "719x435",
         "text": "3",
         "type": "scatter",
         "x": [
          719
         ],
         "y": [
          435
         ]
        },
        {
         "marker": {
          "size": 1.5650845800732873
         },
         "name": "707x400",
         "text": "6",
         "type": "scatter",
         "x": [
          707
         ],
         "y": [
          400
         ]
        },
        {
         "marker": {
          "size": 1
         },
         "name": "1205x709",
         "text": "1",
         "type": "scatter",
         "x": [
          1205
         ],
         "y": [
          709
         ]
        },
        {
         "marker": {
          "size": 2.320595787106084
         },
         "name": "1193x674",
         "text": "29",
         "type": "scatter",
         "x": [
          1193
         ],
         "y": [
          674
         ]
        },
        {
         "marker": {
          "size": 2.9622566376652992
         },
         "name": "1242x728",
         "text": "77",
         "type": "scatter",
         "x": [
          1242
         ],
         "y": [
          728
         ]
        },
        {
         "marker": {
          "size": 2.932972087668518
         },
         "name": "1024x768",
         "text": "74",
         "type": "scatter",
         "x": [
          1024
         ],
         "y": [
          768
         ]
        },
        {
         "marker": {
          "size": 2.0305431848689306
         },
         "name": "1180x696",
         "text": "17",
         "type": "scatter",
         "x": [
          1180
         ],
         "y": [
          696
         ]
        },
        {
         "marker": {
          "size": 1.8211602868378718
         },
         "name": "1071x633",
         "text": "11",
         "type": "scatter",
         "x": [
          1071
         ],
         "y": [
          633
         ]
        },
        {
         "marker": {
          "size": 1.7320508075688772
         },
         "name": "1059x598",
         "text": "9",
         "type": "scatter",
         "x": [
          1059
         ],
         "y": [
          598
         ]
        },
        {
         "marker": {
          "size": 1
         },
         "name": "1066x827",
         "text": "1",
         "type": "scatter",
         "x": [
          1066
         ],
         "y": [
          827
         ]
        },
        {
         "marker": {
          "size": 1.4953487812212205
         },
         "name": "1280x1029",
         "text": "5",
         "type": "scatter",
         "x": [
          1280
         ],
         "y": [
          1029
         ]
        },
        {
         "marker": {
          "size": 1
         },
         "name": "1280x278",
         "text": "1",
         "type": "scatter",
         "x": [
          1280
         ],
         "y": [
          278
         ]
        },
        {
         "marker": {
          "size": 1.9343364202676694
         },
         "name": "1280x1105",
         "text": "14",
         "type": "scatter",
         "x": [
          1280
         ],
         "y": [
          1105
         ]
        },
        {
         "marker": {
          "size": 1.3160740129524924
         },
         "name": "1280x937",
         "text": "3",
         "type": "scatter",
         "x": [
          1280
         ],
         "y": [
          937
         ]
        },
        {
         "marker": {
          "size": 1.4142135623730951
         },
         "name": "1280x967",
         "text": "4",
         "type": "scatter",
         "x": [
          1280
         ],
         "y": [
          967
         ]
        },
        {
         "marker": {
          "size": 1.189207115002721
         },
         "name": "586x466",
         "text": "2",
         "type": "scatter",
         "x": [
          586
         ],
         "y": [
          466
         ]
        },
        {
         "marker": {
          "size": 1.6817928305074292
         },
         "name": "574x431",
         "text": "8",
         "type": "scatter",
         "x": [
          574
         ],
         "y": [
          431
         ]
        },
        {
         "marker": {
          "size": 1.3160740129524924
         },
         "name": "1248x702",
         "text": "3",
         "type": "scatter",
         "x": [
          1248
         ],
         "y": [
          702
         ]
        },
        {
         "marker": {
          "size": 2.114742526881128
         },
         "name": "1053x595",
         "text": "20",
         "type": "scatter",
         "x": [
          1053
         ],
         "y": [
          595
         ]
        },
        {
         "marker": {
          "size": 1
         },
         "name": "1056x822",
         "text": "1",
         "type": "scatter",
         "x": [
          1056
         ],
         "y": [
          822
         ]
        },
        {
         "marker": {
          "size": 1
         },
         "name": "830x651",
         "text": "1",
         "type": "scatter",
         "x": [
          830
         ],
         "y": [
          651
         ]
        },
        {
         "marker": {
          "size": 1.189207115002721
         },
         "name": "818x616",
         "text": "2",
         "type": "scatter",
         "x": [
          818
         ],
         "y": [
          616
         ]
        },
        {
         "marker": {
          "size": 1.4142135623730951
         },
         "name": "1280x1092",
         "text": "4",
         "type": "scatter",
         "x": [
          1280
         ],
         "y": [
          1092
         ]
        },
        {
         "marker": {
          "size": 2.114742526881128
         },
         "name": "1280x977",
         "text": "20",
         "type": "scatter",
         "x": [
          1280
         ],
         "y": [
          977
         ]
        },
        {
         "marker": {
          "size": 1
         },
         "name": "1280x1431",
         "text": "1",
         "type": "scatter",
         "x": [
          1280
         ],
         "y": [
          1431
         ]
        },
        {
         "marker": {
          "size": 1.189207115002721
         },
         "name": "1280x1090",
         "text": "2",
         "type": "scatter",
         "x": [
          1280
         ],
         "y": [
          1090
         ]
        },
        {
         "marker": {
          "size": 1.4142135623730951
         },
         "name": "1029x801",
         "text": "4",
         "type": "scatter",
         "x": [
          1029
         ],
         "y": [
          801
         ]
        },
        {
         "marker": {
          "size": 1.5650845800732873
         },
         "name": "1017x766",
         "text": "6",
         "type": "scatter",
         "x": [
          1017
         ],
         "y": [
          766
         ]
        },
        {
         "marker": {
          "size": 1.8211602868378718
         },
         "name": "1064x628",
         "text": "11",
         "type": "scatter",
         "x": [
          1064
         ],
         "y": [
          628
         ]
        },
        {
         "marker": {
          "size": 2.6321480259049848
         },
         "name": "1052x593",
         "text": "48",
         "type": "scatter",
         "x": [
          1052
         ],
         "y": [
          593
         ]
        },
        {
         "marker": {
          "size": 1.8211602868378718
         },
         "name": "607x457",
         "text": "11",
         "type": "scatter",
         "x": [
          607
         ],
         "y": [
          457
         ]
        },
        {
         "marker": {
          "size": 1.4142135623730951
         },
         "name": "619x492",
         "text": "4",
         "type": "scatter",
         "x": [
          619
         ],
         "y": [
          492
         ]
        },
        {
         "marker": {
          "size": 1
         },
         "name": "1172x907",
         "text": "1",
         "type": "scatter",
         "x": [
          1172
         ],
         "y": [
          907
         ]
        },
        {
         "marker": {
          "size": 1.6817928305074292
         },
         "name": "1215x937",
         "text": "8",
         "type": "scatter",
         "x": [
          1215
         ],
         "y": [
          937
         ]
        },
        {
         "marker": {
          "size": 1.6265765616977859
         },
         "name": "1280x1087",
         "text": "7",
         "type": "scatter",
         "x": [
          1280
         ],
         "y": [
          1087
         ]
        },
        {
         "marker": {
          "size": 1.6817928305074292
         },
         "name": "1280x1048",
         "text": "8",
         "type": "scatter",
         "x": [
          1280
         ],
         "y": [
          1048
         ]
        },
        {
         "marker": {
          "size": 1.5650845800732873
         },
         "name": "659x521",
         "text": "6",
         "type": "scatter",
         "x": [
          659
         ],
         "y": [
          521
         ]
        },
        {
         "marker": {
          "size": 1.3160740129524924
         },
         "name": "647x486",
         "text": "3",
         "type": "scatter",
         "x": [
          647
         ],
         "y": [
          486
         ]
        },
        {
         "marker": {
          "size": 1
         },
         "name": "1280x752",
         "text": "1",
         "type": "scatter",
         "x": [
          1280
         ],
         "y": [
          752
         ]
        },
        {
         "marker": {
          "size": 3.34370152488211
         },
         "name": "1280x727",
         "text": "125",
         "type": "scatter",
         "x": [
          1280
         ],
         "y": [
          727
         ]
        },
        {
         "marker": {
          "size": 1
         },
         "name": "124x72",
         "text": "1",
         "type": "scatter",
         "x": [
          124
         ],
         "y": [
          72
         ]
        },
        {
         "marker": {
          "size": 1.5650845800732873
         },
         "name": "136x107",
         "text": "6",
         "type": "scatter",
         "x": [
          136
         ],
         "y": [
          107
         ]
        },
        {
         "marker": {
          "size": 2.2795070569547775
         },
         "name": "1280x700",
         "text": "27",
         "type": "scatter",
         "x": [
          1280
         ],
         "y": [
          700
         ]
        },
        {
         "marker": {
          "size": 1.3160740129524924
         },
         "name": "1075x606",
         "text": "3",
         "type": "scatter",
         "x": [
          1075
         ],
         "y": [
          606
         ]
        },
        {
         "marker": {
          "size": 5.023829110175616
         },
         "name": "1280x803",
         "text": "637",
         "type": "scatter",
         "x": [
          1280
         ],
         "y": [
          803
         ]
        },
        {
         "marker": {
          "size": 2.320595787106084
         },
         "name": "1050x815",
         "text": "29",
         "type": "scatter",
         "x": [
          1050
         ],
         "y": [
          815
         ]
        },
        {
         "marker": {
          "size": 2.39678172692843
         },
         "name": "1178x695",
         "text": "33",
         "type": "scatter",
         "x": [
          1178
         ],
         "y": [
          695
         ]
        },
        {
         "marker": {
          "size": 1.4142135623730951
         },
         "name": "1280x663",
         "text": "4",
         "type": "scatter",
         "x": [
          1280
         ],
         "y": [
          663
         ]
        },
        {
         "marker": {
          "size": 1.7320508075688772
         },
         "name": "888x693",
         "text": "9",
         "type": "scatter",
         "x": [
          888
         ],
         "y": [
          693
         ]
        },
        {
         "marker": {
          "size": 1.189207115002721
         },
         "name": "623x355",
         "text": "2",
         "type": "scatter",
         "x": [
          623
         ],
         "y": [
          355
         ]
        },
        {
         "marker": {
          "size": 1
         },
         "name": "1280x932",
         "text": "1",
         "type": "scatter",
         "x": [
          1280
         ],
         "y": [
          932
         ]
        },
        {
         "marker": {
          "size": 2.1657367706679937
         },
         "name": "721x542",
         "text": "22",
         "type": "scatter",
         "x": [
          721
         ],
         "y": [
          542
         ]
        },
        {
         "marker": {
          "size": 1.189207115002721
         },
         "name": "1114x657",
         "text": "2",
         "type": "scatter",
         "x": [
          1114
         ],
         "y": [
          657
         ]
        },
        {
         "marker": {
          "size": 2.114742526881128
         },
         "name": "1102x622",
         "text": "20",
         "type": "scatter",
         "x": [
          1102
         ],
         "y": [
          622
         ]
        },
        {
         "marker": {
          "size": 1.6265765616977859
         },
         "name": "124x94",
         "text": "7",
         "type": "scatter",
         "x": [
          124
         ],
         "y": [
          94
         ]
        },
        {
         "marker": {
          "size": 2.3003266337912063
         },
         "name": "136x129",
         "text": "28",
         "type": "scatter",
         "x": [
          136
         ],
         "y": [
          129
         ]
        },
        {
         "marker": {
          "size": 1.8988289221159418
         },
         "name": "1275x747",
         "text": "13",
         "type": "scatter",
         "x": [
          1275
         ],
         "y": [
          747
         ]
        },
        {
         "marker": {
          "size": 2.320595787106084
         },
         "name": "1141x755",
         "text": "29",
         "type": "scatter",
         "x": [
          1141
         ],
         "y": [
          755
         ]
        },
        {
         "marker": {
          "size": 1.189207115002721
         },
         "name": "1127x707",
         "text": "2",
         "type": "scatter",
         "x": [
          1127
         ],
         "y": [
          707
         ]
        },
        {
         "marker": {
          "size": 2.5457298950218306
         },
         "name": "1100x621",
         "text": "42",
         "type": "scatter",
         "x": [
          1100
         ],
         "y": [
          621
         ]
        },
        {
         "marker": {
          "size": 1.6817928305074292
         },
         "name": "1112x656",
         "text": "8",
         "type": "scatter",
         "x": [
          1112
         ],
         "y": [
          656
         ]
        },
        {
         "marker": {
          "size": 2.46632571455966
         },
         "name": "1269x743",
         "text": "37",
         "type": "scatter",
         "x": [
          1269
         ],
         "y": [
          743
         ]
        },
        {
         "marker": {
          "size": 1.4953487812212205
         },
         "name": "1277x958",
         "text": "5",
         "type": "scatter",
         "x": [
          1277
         ],
         "y": [
          958
         ]
        },
        {
         "marker": {
          "size": 1.7320508075688772
         },
         "name": "981x484",
         "text": "9",
         "type": "scatter",
         "x": [
          981
         ],
         "y": [
          484
         ]
        },
        {
         "marker": {
          "size": 1.7782794100389228
         },
         "name": "1280x987",
         "text": "10",
         "type": "scatter",
         "x": [
          1280
         ],
         "y": [
          987
         ]
        },
        {
         "marker": {
          "size": 1
         },
         "name": "733x577",
         "text": "1",
         "type": "scatter",
         "x": [
          733
         ],
         "y": [
          577
         ]
        },
        {
         "marker": {
          "size": 1.7782794100389228
         },
         "name": "124x71",
         "text": "10",
         "type": "scatter",
         "x": [
          124
         ],
         "y": [
          71
         ]
        },
        {
         "marker": {
          "size": 1.7782794100389228
         },
         "name": "1156x868",
         "text": "10",
         "type": "scatter",
         "x": [
          1156
         ],
         "y": [
          868
         ]
        },
        {
         "marker": {
          "size": 1.4953487812212205
         },
         "name": "1167x876",
         "text": "5",
         "type": "scatter",
         "x": [
          1167
         ],
         "y": [
          876
         ]
        },
        {
         "marker": {
          "size": 2.087797629929844
         },
         "name": "1278x748",
         "text": "19",
         "type": "scatter",
         "x": [
          1278
         ],
         "y": [
          748
         ]
        },
        {
         "marker": {
          "size": 1.189207115002721
         },
         "name": "1280x762",
         "text": "2",
         "type": "scatter",
         "x": [
          1280
         ],
         "y": [
          762
         ]
        },
        {
         "marker": {
          "size": 2.340347319320716
         },
         "name": "1122x744",
         "text": "30",
         "type": "scatter",
         "x": [
          1122
         ],
         "y": [
          744
         ]
        },
        {
         "marker": {
          "size": 1.4142135623730951
         },
         "name": "1030x580",
         "text": "4",
         "type": "scatter",
         "x": [
          1030
         ],
         "y": [
          580
         ]
        },
        {
         "marker": {
          "size": 1
         },
         "name": "1049x590",
         "text": "1",
         "type": "scatter",
         "x": [
          1049
         ],
         "y": [
          590
         ]
        },
        {
         "marker": {
          "size": 1.9343364202676694
         },
         "name": "1061x625",
         "text": "14",
         "type": "scatter",
         "x": [
          1061
         ],
         "y": [
          625
         ]
        },
        {
         "marker": {
          "size": 1.189207115002721
         },
         "name": "974x1047",
         "text": "2",
         "type": "scatter",
         "x": [
          974
         ],
         "y": [
          1047
         ]
        },
        {
         "marker": {
          "size": 2
         },
         "name": "723x545",
         "text": "16",
         "type": "scatter",
         "x": [
          723
         ],
         "y": [
          545
         ]
        },
        {
         "marker": {
          "size": 2.6321480259049848
         },
         "name": "1280x695",
         "text": "48",
         "type": "scatter",
         "x": [
          1280
         ],
         "y": [
          695
         ]
        },
        {
         "marker": {
          "size": 1.4142135623730951
         },
         "name": "926x523",
         "text": "4",
         "type": "scatter",
         "x": [
          926
         ],
         "y": [
          523
         ]
        },
        {
         "marker": {
          "size": 1
         },
         "name": "938x558",
         "text": "1",
         "type": "scatter",
         "x": [
          938
         ],
         "y": [
          558
         ]
        },
        {
         "marker": {
          "size": 1
         },
         "name": "1034x612",
         "text": "1",
         "type": "scatter",
         "x": [
          1034
         ],
         "y": [
          612
         ]
        },
        {
         "marker": {
          "size": 1.4142135623730951
         },
         "name": "1022x577",
         "text": "4",
         "type": "scatter",
         "x": [
          1022
         ],
         "y": [
          577
         ]
        },
        {
         "marker": {
          "size": 2.320595787106084
         },
         "name": "1280x715",
         "text": "29",
         "type": "scatter",
         "x": [
          1280
         ],
         "y": [
          715
         ]
        },
        {
         "marker": {
          "size": 1.189207115002721
         },
         "name": "826x495",
         "text": "2",
         "type": "scatter",
         "x": [
          826
         ],
         "y": [
          495
         ]
        },
        {
         "marker": {
          "size": 2.0597671439071177
         },
         "name": "814x460",
         "text": "18",
         "type": "scatter",
         "x": [
          814
         ],
         "y": [
          460
         ]
        },
        {
         "marker": {
          "size": 1
         },
         "name": "1134x668",
         "text": "1",
         "type": "scatter",
         "x": [
          1134
         ],
         "y": [
          668
         ]
        },
        {
         "marker": {
          "size": 1.3160740129524924
         },
         "name": "1146x675",
         "text": "3",
         "type": "scatter",
         "x": [
          1146
         ],
         "y": [
          675
         ]
        },
        {
         "marker": {
          "size": 2.3003266337912063
         },
         "name": "1136x670",
         "text": "28",
         "type": "scatter",
         "x": [
          1136
         ],
         "y": [
          670
         ]
        },
        {
         "marker": {
          "size": 1.189207115002721
         },
         "name": "1280x815",
         "text": "2",
         "type": "scatter",
         "x": [
          1280
         ],
         "y": [
          815
         ]
        },
        {
         "marker": {
          "size": 1.4142135623730951
         },
         "name": "1178x714",
         "text": "4",
         "type": "scatter",
         "x": [
          1178
         ],
         "y": [
          714
         ]
        },
        {
         "marker": {
          "size": 1
         },
         "name": "1060x626",
         "text": "1",
         "type": "scatter",
         "x": [
          1060
         ],
         "y": [
          626
         ]
        },
        {
         "marker": {
          "size": 1
         },
         "name": "998x591",
         "text": "1",
         "type": "scatter",
         "x": [
          998
         ],
         "y": [
          591
         ]
        },
        {
         "marker": {
          "size": 1.5650845800732873
         },
         "name": "986x556",
         "text": "6",
         "type": "scatter",
         "x": [
          986
         ],
         "y": [
          556
         ]
        },
        {
         "marker": {
          "size": 1.4142135623730951
         },
         "name": "936x557",
         "text": "4",
         "type": "scatter",
         "x": [
          936
         ],
         "y": [
          557
         ]
        },
        {
         "marker": {
          "size": 1.6817928305074292
         },
         "name": "178x159",
         "text": "8",
         "type": "scatter",
         "x": [
          178
         ],
         "y": [
          159
         ]
        },
        {
         "marker": {
          "size": 2.189938703094842
         },
         "name": "1280x927",
         "text": "23",
         "type": "scatter",
         "x": [
          1280
         ],
         "y": [
          927
         ]
        },
        {
         "marker": {
          "size": 1.7782794100389228
         },
         "name": "1280x906",
         "text": "10",
         "type": "scatter",
         "x": [
          1280
         ],
         "y": [
          906
         ]
        },
        {
         "marker": {
          "size": 1.7320508075688772
         },
         "name": "735x580",
         "text": "9",
         "type": "scatter",
         "x": [
          735
         ],
         "y": [
          580
         ]
        },
        {
         "marker": {
          "size": 1.8612097182041991
         },
         "name": "1124x635",
         "text": "12",
         "type": "scatter",
         "x": [
          1124
         ],
         "y": [
          635
         ]
        },
        {
         "marker": {
          "size": 2.3003266337912063
         },
         "name": "924x522",
         "text": "28",
         "type": "scatter",
         "x": [
          924
         ],
         "y": [
          522
         ]
        },
        {
         "marker": {
          "size": 1.189207115002721
         },
         "name": "1266x713",
         "text": "2",
         "type": "scatter",
         "x": [
          1266
         ],
         "y": [
          713
         ]
        },
        {
         "marker": {
          "size": 2.449489742783178
         },
         "name": "1030x797",
         "text": "36",
         "type": "scatter",
         "x": [
          1030
         ],
         "y": [
          797
         ]
        },
        {
         "marker": {
          "size": 1
         },
         "name": "182x161",
         "text": "1",
         "type": "scatter",
         "x": [
          182
         ],
         "y": [
          161
         ]
        },
        {
         "marker": {
          "size": 1.189207115002721
         },
         "name": "1026x770",
         "text": "2",
         "type": "scatter",
         "x": [
          1026
         ],
         "y": [
          770
         ]
        },
        {
         "marker": {
          "size": 1.4953487812212205
         },
         "name": "1280x737",
         "text": "5",
         "type": "scatter",
         "x": [
          1280
         ],
         "y": [
          737
         ]
        },
        {
         "marker": {
          "size": 3.402328159186034
         },
         "name": "1280x547",
         "text": "134",
         "type": "scatter",
         "x": [
          1280
         ],
         "y": [
          547
         ]
        },
        {
         "marker": {
          "size": 2.6321480259049848
         },
         "name": "1164x876",
         "text": "48",
         "type": "scatter",
         "x": [
          1164
         ],
         "y": [
          876
         ]
        },
        {
         "marker": {
          "size": 2.0305431848689306
         },
         "name": "1280x777",
         "text": "17",
         "type": "scatter",
         "x": [
          1280
         ],
         "y": [
          777
         ]
        },
        {
         "marker": {
          "size": 1.189207115002721
         },
         "name": "1280x761",
         "text": "2",
         "type": "scatter",
         "x": [
          1280
         ],
         "y": [
          761
         ]
        },
        {
         "marker": {
          "size": 2.771488002476036
         },
         "name": "1280x1026",
         "text": "59",
         "type": "scatter",
         "x": [
          1280
         ],
         "y": [
          1026
         ]
        },
        {
         "marker": {
          "size": 3.9643705232359037
         },
         "name": "1036x780",
         "text": "247",
         "type": "scatter",
         "x": [
          1036
         ],
         "y": [
          780
         ]
        },
        {
         "marker": {
          "size": 1.189207115002721
         },
         "name": "1132x643",
         "text": "2",
         "type": "scatter",
         "x": [
          1132
         ],
         "y": [
          643
         ]
        },
        {
         "marker": {
          "size": 3.4701000819561814
         },
         "name": "1280x962",
         "text": "145",
         "type": "scatter",
         "x": [
          1280
         ],
         "y": [
          962
         ]
        },
        {
         "marker": {
          "size": 1.6265765616977859
         },
         "name": "1280x569",
         "text": "7",
         "type": "scatter",
         "x": [
          1280
         ],
         "y": [
          569
         ]
        },
        {
         "marker": {
          "size": 2.189938703094842
         },
         "name": "1280x818",
         "text": "23",
         "type": "scatter",
         "x": [
          1280
         ],
         "y": [
          818
         ]
        },
        {
         "marker": {
          "size": 1.4142135623730951
         },
         "name": "1255x696",
         "text": "4",
         "type": "scatter",
         "x": [
          1255
         ],
         "y": [
          696
         ]
        },
        {
         "marker": {
          "size": 2.5755095769013945
         },
         "name": "1088x656",
         "text": "44",
         "type": "scatter",
         "x": [
          1088
         ],
         "y": [
          656
         ]
        },
        {
         "marker": {
          "size": 3.11373725847777
         },
         "name": "1280x772",
         "text": "94",
         "type": "scatter",
         "x": [
          1280
         ],
         "y": [
          772
         ]
        },
        {
         "marker": {
          "size": 4.896851806677796
         },
         "name": "1280x725",
         "text": "575",
         "type": "scatter",
         "x": [
          1280
         ],
         "y": [
          725
         ]
        },
        {
         "marker": {
          "size": 3.7224194364083982
         },
         "name": "1280x572",
         "text": "192",
         "type": "scatter",
         "x": [
          1280
         ],
         "y": [
          572
         ]
        },
        {
         "marker": {
          "size": 1.4953487812212205
         },
         "name": "1280x631",
         "text": "5",
         "type": "scatter",
         "x": [
          1280
         ],
         "y": [
          631
         ]
        },
        {
         "marker": {
          "size": 3.2531531233955717
         },
         "name": "1280x804",
         "text": "112",
         "type": "scatter",
         "x": [
          1280
         ],
         "y": [
          804
         ]
        },
        {
         "marker": {
          "size": 2.320595787106084
         },
         "name": "1280x757",
         "text": "29",
         "type": "scatter",
         "x": [
          1280
         ],
         "y": [
          757
         ]
        },
        {
         "marker": {
          "size": 1.3160740129524924
         },
         "name": "1280x1079",
         "text": "3",
         "type": "scatter",
         "x": [
          1280
         ],
         "y": [
          1079
         ]
        },
        {
         "marker": {
          "size": 1.3160740129524924
         },
         "name": "308x685",
         "text": "3",
         "type": "scatter",
         "x": [
          308
         ],
         "y": [
          685
         ]
        },
        {
         "marker": {
          "size": 1
         },
         "name": "304x658",
         "text": "1",
         "type": "scatter",
         "x": [
          304
         ],
         "y": [
          658
         ]
        },
        {
         "marker": {
          "size": 1.6817928305074292
         },
         "name": "1280x691",
         "text": "8",
         "type": "scatter",
         "x": [
          1280
         ],
         "y": [
          691
         ]
        },
        {
         "marker": {
          "size": 1.6265765616977859
         },
         "name": "1280x707",
         "text": "7",
         "type": "scatter",
         "x": [
          1280
         ],
         "y": [
          707
         ]
        },
        {
         "marker": {
          "size": 1.3160740129524924
         },
         "name": "150x122",
         "text": "3",
         "type": "scatter",
         "x": [
          150
         ],
         "y": [
          122
         ]
        },
        {
         "marker": {
          "size": 1
         },
         "name": "384x609",
         "text": "1",
         "type": "scatter",
         "x": [
          384
         ],
         "y": [
          609
         ]
        },
        {
         "marker": {
          "size": 1.7320508075688772
         },
         "name": "293x114",
         "text": "9",
         "type": "scatter",
         "x": [
          293
         ],
         "y": [
          114
         ]
        },
        {
         "marker": {
          "size": 1
         },
         "name": "1262x818",
         "text": "1",
         "type": "scatter",
         "x": [
          1262
         ],
         "y": [
          818
         ]
        },
        {
         "marker": {
          "size": 1.7320508075688772
         },
         "name": "1258x791",
         "text": "9",
         "type": "scatter",
         "x": [
          1258
         ],
         "y": [
          791
         ]
        },
        {
         "marker": {
          "size": 1.5650845800732873
         },
         "name": "1280x903",
         "text": "6",
         "type": "scatter",
         "x": [
          1280
         ],
         "y": [
          903
         ]
        },
        {
         "marker": {
          "size": 1.5650845800732873
         },
         "name": "298x690",
         "text": "6",
         "type": "scatter",
         "x": [
          298
         ],
         "y": [
          690
         ]
        },
        {
         "marker": {
          "size": 2.4828237961983883
         },
         "name": "294x663",
         "text": "38",
         "type": "scatter",
         "x": [
          294
         ],
         "y": [
          663
         ]
        },
        {
         "marker": {
          "size": 1.7782794100389228
         },
         "name": "1251x669",
         "text": "10",
         "type": "scatter",
         "x": [
          1251
         ],
         "y": [
          669
         ]
        },
        {
         "marker": {
          "size": 1.189207115002721
         },
         "name": "1280x553",
         "text": "2",
         "type": "scatter",
         "x": [
          1280
         ],
         "y": [
          553
         ]
        },
        {
         "marker": {
          "size": 1
         },
         "name": "1057x598",
         "text": "1",
         "type": "scatter",
         "x": [
          1057
         ],
         "y": [
          598
         ]
        },
        {
         "marker": {
          "size": 1
         },
         "name": "1280x2060",
         "text": "1",
         "type": "scatter",
         "x": [
          1280
         ],
         "y": [
          2060
         ]
        },
        {
         "marker": {
          "size": 1
         },
         "name": "616x839",
         "text": "1",
         "type": "scatter",
         "x": [
          616
         ],
         "y": [
          839
         ]
        },
        {
         "marker": {
          "size": 1
         },
         "name": "388x254",
         "text": "1",
         "type": "scatter",
         "x": [
          388
         ],
         "y": [
          254
         ]
        },
        {
         "marker": {
          "size": 1.189207115002721
         },
         "name": "1280x805",
         "text": "2",
         "type": "scatter",
         "x": [
          1280
         ],
         "y": [
          805
         ]
        },
        {
         "marker": {
          "size": 1.6265765616977859
         },
         "name": "1280x857",
         "text": "7",
         "type": "scatter",
         "x": [
          1280
         ],
         "y": [
          857
         ]
        },
        {
         "marker": {
          "size": 1.189207115002721
         },
         "name": "384x227",
         "text": "2",
         "type": "scatter",
         "x": [
          384
         ],
         "y": [
          227
         ]
        },
        {
         "marker": {
          "size": 1.4953487812212205
         },
         "name": "384x413",
         "text": "5",
         "type": "scatter",
         "x": [
          384
         ],
         "y": [
          413
         ]
        },
        {
         "marker": {
          "size": 1
         },
         "name": "1080x838",
         "text": "1",
         "type": "scatter",
         "x": [
          1080
         ],
         "y": [
          838
         ]
        },
        {
         "marker": {
          "size": 1.189207115002721
         },
         "name": "308x700",
         "text": "2",
         "type": "scatter",
         "x": [
          308
         ],
         "y": [
          700
         ]
        },
        {
         "marker": {
          "size": 1
         },
         "name": "154x149",
         "text": "1",
         "type": "scatter",
         "x": [
          154
         ],
         "y": [
          149
         ]
        },
        {
         "marker": {
          "size": 2.68534961428265
         },
         "name": "1280x759",
         "text": "52",
         "type": "scatter",
         "x": [
          1280
         ],
         "y": [
          759
         ]
        },
        {
         "marker": {
          "size": 1.3160740129524924
         },
         "name": "1030x793",
         "text": "3",
         "type": "scatter",
         "x": [
          1030
         ],
         "y": [
          793
         ]
        },
        {
         "marker": {
          "size": 2.8502698827717983
         },
         "name": "1172x687",
         "text": "66",
         "type": "scatter",
         "x": [
          1172
         ],
         "y": [
          687
         ]
        },
        {
         "marker": {
          "size": 3.0540758099773515
         },
         "name": "1192x703",
         "text": "87",
         "type": "scatter",
         "x": [
          1192
         ],
         "y": [
          703
         ]
        },
        {
         "marker": {
          "size": 2.3596110617705666
         },
         "name": "1188x676",
         "text": "31",
         "type": "scatter",
         "x": [
          1188
         ],
         "y": [
          676
         ]
        },
        {
         "marker": {
          "size": 1
         },
         "name": "1280x728",
         "text": "1",
         "type": "scatter",
         "x": [
          1280
         ],
         "y": [
          728
         ]
        },
        {
         "marker": {
          "size": 2.604290687140218
         },
         "name": "384x295",
         "text": "46",
         "type": "scatter",
         "x": [
          384
         ],
         "y": [
          295
         ]
        },
        {
         "marker": {
          "size": 1.189207115002721
         },
         "name": "1082x705",
         "text": "2",
         "type": "scatter",
         "x": [
          1082
         ],
         "y": [
          705
         ]
        },
        {
         "marker": {
          "size": 1.189207115002721
         },
         "name": "1088x722",
         "text": "2",
         "type": "scatter",
         "x": [
          1088
         ],
         "y": [
          722
         ]
        },
        {
         "marker": {
          "size": 1
         },
         "name": "1280x902",
         "text": "1",
         "type": "scatter",
         "x": [
          1280
         ],
         "y": [
          902
         ]
        },
        {
         "marker": {
          "size": 1.7320508075688772
         },
         "name": "1280x755",
         "text": "9",
         "type": "scatter",
         "x": [
          1280
         ],
         "y": [
          755
         ]
        },
        {
         "marker": {
          "size": 1
         },
         "name": "1168x660",
         "text": "1",
         "type": "scatter",
         "x": [
          1168
         ],
         "y": [
          660
         ]
        },
        {
         "marker": {
          "size": 1.8988289221159418
         },
         "name": "388x322",
         "text": "13",
         "type": "scatter",
         "x": [
          388
         ],
         "y": [
          322
         ]
        },
        {
         "marker": {
          "size": 1.8211602868378718
         },
         "name": "1280x1460",
         "text": "11",
         "type": "scatter",
         "x": [
          1280
         ],
         "y": [
          1460
         ]
        },
        {
         "marker": {
          "size": 1.4953487812212205
         },
         "name": "1280x710",
         "text": "5",
         "type": "scatter",
         "x": [
          1280
         ],
         "y": [
          710
         ]
        },
        {
         "marker": {
          "size": 3.208680436096278
         },
         "name": "1088x819",
         "text": "106",
         "type": "scatter",
         "x": [
          1088
         ],
         "y": [
          819
         ]
        },
        {
         "marker": {
          "size": 1.4142135623730951
         },
         "name": "1280x730",
         "text": "4",
         "type": "scatter",
         "x": [
          1280
         ],
         "y": [
          730
         ]
        },
        {
         "marker": {
          "size": 1.3160740129524924
         },
         "name": "1280x791",
         "text": "3",
         "type": "scatter",
         "x": [
          1280
         ],
         "y": [
          791
         ]
        },
        {
         "marker": {
          "size": 1.5650845800732873
         },
         "name": "1280x714",
         "text": "6",
         "type": "scatter",
         "x": [
          1280
         ],
         "y": [
          714
         ]
        },
        {
         "marker": {
          "size": 1.8211602868378718
         },
         "name": "1280x736",
         "text": "11",
         "type": "scatter",
         "x": [
          1280
         ],
         "y": [
          736
         ]
        },
        {
         "marker": {
          "size": 1.6265765616977859
         },
         "name": "1280x712",
         "text": "7",
         "type": "scatter",
         "x": [
          1280
         ],
         "y": [
          712
         ]
        },
        {
         "marker": {
          "size": 1.3160740129524924
         },
         "name": "1280x682",
         "text": "3",
         "type": "scatter",
         "x": [
          1280
         ],
         "y": [
          682
         ]
        },
        {
         "marker": {
          "size": 1.4142135623730951
         },
         "name": "1280x776",
         "text": "4",
         "type": "scatter",
         "x": [
          1280
         ],
         "y": [
          776
         ]
        },
        {
         "marker": {
          "size": 1
         },
         "name": "1280x674",
         "text": "1",
         "type": "scatter",
         "x": [
          1280
         ],
         "y": [
          674
         ]
        },
        {
         "marker": {
          "size": 1.6265765616977859
         },
         "name": "1280x668",
         "text": "7",
         "type": "scatter",
         "x": [
          1280
         ],
         "y": [
          668
         ]
        },
        {
         "marker": {
          "size": 1.189207115002721
         },
         "name": "1104x614",
         "text": "2",
         "type": "scatter",
         "x": [
          1104
         ],
         "y": [
          614
         ]
        },
        {
         "marker": {
          "size": 1.189207115002721
         },
         "name": "1100x587",
         "text": "2",
         "type": "scatter",
         "x": [
          1100
         ],
         "y": [
          587
         ]
        },
        {
         "marker": {
          "size": 1.189207115002721
         },
         "name": "1280x504",
         "text": "2",
         "type": "scatter",
         "x": [
          1280
         ],
         "y": [
          504
         ]
        },
        {
         "marker": {
          "size": 1.3160740129524924
         },
         "name": "1026x797",
         "text": "3",
         "type": "scatter",
         "x": [
          1026
         ],
         "y": [
          797
         ]
        },
        {
         "marker": {
          "size": 1
         },
         "name": "1280x697",
         "text": "1",
         "type": "scatter",
         "x": [
          1280
         ],
         "y": [
          697
         ]
        },
        {
         "marker": {
          "size": 1
         },
         "name": "639x303",
         "text": "1",
         "type": "scatter",
         "x": [
          639
         ],
         "y": [
          303
         ]
        },
        {
         "marker": {
          "size": 1
         },
         "name": "662x523",
         "text": "1",
         "type": "scatter",
         "x": [
          662
         ],
         "y": [
          523
         ]
        },
        {
         "marker": {
          "size": 1
         },
         "name": "1016x763",
         "text": "1",
         "type": "scatter",
         "x": [
          1016
         ],
         "y": [
          763
         ]
        },
        {
         "marker": {
          "size": 1
         },
         "name": "300x456",
         "text": "1",
         "type": "scatter",
         "x": [
          300
         ],
         "y": [
          456
         ]
        },
        {
         "marker": {
          "size": 1
         },
         "name": "300x412",
         "text": "1",
         "type": "scatter",
         "x": [
          300
         ],
         "y": [
          412
         ]
        },
        {
         "marker": {
          "size": 1
         },
         "name": "1185x768",
         "text": "1",
         "type": "scatter",
         "x": [
          1185
         ],
         "y": [
          768
         ]
        },
        {
         "marker": {
          "size": 1
         },
         "name": "310x507",
         "text": "1",
         "type": "scatter",
         "x": [
          310
         ],
         "y": [
          507
         ]
        },
        {
         "marker": {
          "size": 1
         },
         "name": "315x549",
         "text": "1",
         "type": "scatter",
         "x": [
          315
         ],
         "y": [
          549
         ]
        },
        {
         "marker": {
          "size": 1
         },
         "name": "993x519",
         "text": "1",
         "type": "scatter",
         "x": [
          993
         ],
         "y": [
          519
         ]
        },
        {
         "marker": {
          "size": 1.189207115002721
         },
         "name": "330x618",
         "text": "2",
         "type": "scatter",
         "x": [
          330
         ],
         "y": [
          618
         ]
        },
        {
         "marker": {
          "size": 1
         },
         "name": "326x591",
         "text": "1",
         "type": "scatter",
         "x": [
          326
         ],
         "y": [
          591
         ]
        }
       ],
       "layout": {
        "template": {
         "data": {
          "bar": [
           {
            "error_x": {
             "color": "#2a3f5f"
            },
            "error_y": {
             "color": "#2a3f5f"
            },
            "marker": {
             "line": {
              "color": "#E5ECF6",
              "width": 0.5
             },
             "pattern": {
              "fillmode": "overlay",
              "size": 10,
              "solidity": 0.2
             }
            },
            "type": "bar"
           }
          ],
          "barpolar": [
           {
            "marker": {
             "line": {
              "color": "#E5ECF6",
              "width": 0.5
             },
             "pattern": {
              "fillmode": "overlay",
              "size": 10,
              "solidity": 0.2
             }
            },
            "type": "barpolar"
           }
          ],
          "carpet": [
           {
            "aaxis": {
             "endlinecolor": "#2a3f5f",
             "gridcolor": "white",
             "linecolor": "white",
             "minorgridcolor": "white",
             "startlinecolor": "#2a3f5f"
            },
            "baxis": {
             "endlinecolor": "#2a3f5f",
             "gridcolor": "white",
             "linecolor": "white",
             "minorgridcolor": "white",
             "startlinecolor": "#2a3f5f"
            },
            "type": "carpet"
           }
          ],
          "choropleth": [
           {
            "colorbar": {
             "outlinewidth": 0,
             "ticks": ""
            },
            "type": "choropleth"
           }
          ],
          "contour": [
           {
            "colorbar": {
             "outlinewidth": 0,
             "ticks": ""
            },
            "colorscale": [
             [
              0,
              "#0d0887"
             ],
             [
              0.1111111111111111,
              "#46039f"
             ],
             [
              0.2222222222222222,
              "#7201a8"
             ],
             [
              0.3333333333333333,
              "#9c179e"
             ],
             [
              0.4444444444444444,
              "#bd3786"
             ],
             [
              0.5555555555555556,
              "#d8576b"
             ],
             [
              0.6666666666666666,
              "#ed7953"
             ],
             [
              0.7777777777777778,
              "#fb9f3a"
             ],
             [
              0.8888888888888888,
              "#fdca26"
             ],
             [
              1,
              "#f0f921"
             ]
            ],
            "type": "contour"
           }
          ],
          "contourcarpet": [
           {
            "colorbar": {
             "outlinewidth": 0,
             "ticks": ""
            },
            "type": "contourcarpet"
           }
          ],
          "heatmap": [
           {
            "colorbar": {
             "outlinewidth": 0,
             "ticks": ""
            },
            "colorscale": [
             [
              0,
              "#0d0887"
             ],
             [
              0.1111111111111111,
              "#46039f"
             ],
             [
              0.2222222222222222,
              "#7201a8"
             ],
             [
              0.3333333333333333,
              "#9c179e"
             ],
             [
              0.4444444444444444,
              "#bd3786"
             ],
             [
              0.5555555555555556,
              "#d8576b"
             ],
             [
              0.6666666666666666,
              "#ed7953"
             ],
             [
              0.7777777777777778,
              "#fb9f3a"
             ],
             [
              0.8888888888888888,
              "#fdca26"
             ],
             [
              1,
              "#f0f921"
             ]
            ],
            "type": "heatmap"
           }
          ],
          "heatmapgl": [
           {
            "colorbar": {
             "outlinewidth": 0,
             "ticks": ""
            },
            "colorscale": [
             [
              0,
              "#0d0887"
             ],
             [
              0.1111111111111111,
              "#46039f"
             ],
             [
              0.2222222222222222,
              "#7201a8"
             ],
             [
              0.3333333333333333,
              "#9c179e"
             ],
             [
              0.4444444444444444,
              "#bd3786"
             ],
             [
              0.5555555555555556,
              "#d8576b"
             ],
             [
              0.6666666666666666,
              "#ed7953"
             ],
             [
              0.7777777777777778,
              "#fb9f3a"
             ],
             [
              0.8888888888888888,
              "#fdca26"
             ],
             [
              1,
              "#f0f921"
             ]
            ],
            "type": "heatmapgl"
           }
          ],
          "histogram": [
           {
            "marker": {
             "pattern": {
              "fillmode": "overlay",
              "size": 10,
              "solidity": 0.2
             }
            },
            "type": "histogram"
           }
          ],
          "histogram2d": [
           {
            "colorbar": {
             "outlinewidth": 0,
             "ticks": ""
            },
            "colorscale": [
             [
              0,
              "#0d0887"
             ],
             [
              0.1111111111111111,
              "#46039f"
             ],
             [
              0.2222222222222222,
              "#7201a8"
             ],
             [
              0.3333333333333333,
              "#9c179e"
             ],
             [
              0.4444444444444444,
              "#bd3786"
             ],
             [
              0.5555555555555556,
              "#d8576b"
             ],
             [
              0.6666666666666666,
              "#ed7953"
             ],
             [
              0.7777777777777778,
              "#fb9f3a"
             ],
             [
              0.8888888888888888,
              "#fdca26"
             ],
             [
              1,
              "#f0f921"
             ]
            ],
            "type": "histogram2d"
           }
          ],
          "histogram2dcontour": [
           {
            "colorbar": {
             "outlinewidth": 0,
             "ticks": ""
            },
            "colorscale": [
             [
              0,
              "#0d0887"
             ],
             [
              0.1111111111111111,
              "#46039f"
             ],
             [
              0.2222222222222222,
              "#7201a8"
             ],
             [
              0.3333333333333333,
              "#9c179e"
             ],
             [
              0.4444444444444444,
              "#bd3786"
             ],
             [
              0.5555555555555556,
              "#d8576b"
             ],
             [
              0.6666666666666666,
              "#ed7953"
             ],
             [
              0.7777777777777778,
              "#fb9f3a"
             ],
             [
              0.8888888888888888,
              "#fdca26"
             ],
             [
              1,
              "#f0f921"
             ]
            ],
            "type": "histogram2dcontour"
           }
          ],
          "mesh3d": [
           {
            "colorbar": {
             "outlinewidth": 0,
             "ticks": ""
            },
            "type": "mesh3d"
           }
          ],
          "parcoords": [
           {
            "line": {
             "colorbar": {
              "outlinewidth": 0,
              "ticks": ""
             }
            },
            "type": "parcoords"
           }
          ],
          "pie": [
           {
            "automargin": true,
            "type": "pie"
           }
          ],
          "scatter": [
           {
            "fillpattern": {
             "fillmode": "overlay",
             "size": 10,
             "solidity": 0.2
            },
            "type": "scatter"
           }
          ],
          "scatter3d": [
           {
            "line": {
             "colorbar": {
              "outlinewidth": 0,
              "ticks": ""
             }
            },
            "marker": {
             "colorbar": {
              "outlinewidth": 0,
              "ticks": ""
             }
            },
            "type": "scatter3d"
           }
          ],
          "scattercarpet": [
           {
            "marker": {
             "colorbar": {
              "outlinewidth": 0,
              "ticks": ""
             }
            },
            "type": "scattercarpet"
           }
          ],
          "scattergeo": [
           {
            "marker": {
             "colorbar": {
              "outlinewidth": 0,
              "ticks": ""
             }
            },
            "type": "scattergeo"
           }
          ],
          "scattergl": [
           {
            "marker": {
             "colorbar": {
              "outlinewidth": 0,
              "ticks": ""
             }
            },
            "type": "scattergl"
           }
          ],
          "scattermapbox": [
           {
            "marker": {
             "colorbar": {
              "outlinewidth": 0,
              "ticks": ""
             }
            },
            "type": "scattermapbox"
           }
          ],
          "scatterpolar": [
           {
            "marker": {
             "colorbar": {
              "outlinewidth": 0,
              "ticks": ""
             }
            },
            "type": "scatterpolar"
           }
          ],
          "scatterpolargl": [
           {
            "marker": {
             "colorbar": {
              "outlinewidth": 0,
              "ticks": ""
             }
            },
            "type": "scatterpolargl"
           }
          ],
          "scatterternary": [
           {
            "marker": {
             "colorbar": {
              "outlinewidth": 0,
              "ticks": ""
             }
            },
            "type": "scatterternary"
           }
          ],
          "surface": [
           {
            "colorbar": {
             "outlinewidth": 0,
             "ticks": ""
            },
            "colorscale": [
             [
              0,
              "#0d0887"
             ],
             [
              0.1111111111111111,
              "#46039f"
             ],
             [
              0.2222222222222222,
              "#7201a8"
             ],
             [
              0.3333333333333333,
              "#9c179e"
             ],
             [
              0.4444444444444444,
              "#bd3786"
             ],
             [
              0.5555555555555556,
              "#d8576b"
             ],
             [
              0.6666666666666666,
              "#ed7953"
             ],
             [
              0.7777777777777778,
              "#fb9f3a"
             ],
             [
              0.8888888888888888,
              "#fdca26"
             ],
             [
              1,
              "#f0f921"
             ]
            ],
            "type": "surface"
           }
          ],
          "table": [
           {
            "cells": {
             "fill": {
              "color": "#EBF0F8"
             },
             "line": {
              "color": "white"
             }
            },
            "header": {
             "fill": {
              "color": "#C8D4E3"
             },
             "line": {
              "color": "white"
             }
            },
            "type": "table"
           }
          ]
         },
         "layout": {
          "annotationdefaults": {
           "arrowcolor": "#2a3f5f",
           "arrowhead": 0,
           "arrowwidth": 1
          },
          "autotypenumbers": "strict",
          "coloraxis": {
           "colorbar": {
            "outlinewidth": 0,
            "ticks": ""
           }
          },
          "colorscale": {
           "diverging": [
            [
             0,
             "#8e0152"
            ],
            [
             0.1,
             "#c51b7d"
            ],
            [
             0.2,
             "#de77ae"
            ],
            [
             0.3,
             "#f1b6da"
            ],
            [
             0.4,
             "#fde0ef"
            ],
            [
             0.5,
             "#f7f7f7"
            ],
            [
             0.6,
             "#e6f5d0"
            ],
            [
             0.7,
             "#b8e186"
            ],
            [
             0.8,
             "#7fbc41"
            ],
            [
             0.9,
             "#4d9221"
            ],
            [
             1,
             "#276419"
            ]
           ],
           "sequential": [
            [
             0,
             "#0d0887"
            ],
            [
             0.1111111111111111,
             "#46039f"
            ],
            [
             0.2222222222222222,
             "#7201a8"
            ],
            [
             0.3333333333333333,
             "#9c179e"
            ],
            [
             0.4444444444444444,
             "#bd3786"
            ],
            [
             0.5555555555555556,
             "#d8576b"
            ],
            [
             0.6666666666666666,
             "#ed7953"
            ],
            [
             0.7777777777777778,
             "#fb9f3a"
            ],
            [
             0.8888888888888888,
             "#fdca26"
            ],
            [
             1,
             "#f0f921"
            ]
           ],
           "sequentialminus": [
            [
             0,
             "#0d0887"
            ],
            [
             0.1111111111111111,
             "#46039f"
            ],
            [
             0.2222222222222222,
             "#7201a8"
            ],
            [
             0.3333333333333333,
             "#9c179e"
            ],
            [
             0.4444444444444444,
             "#bd3786"
            ],
            [
             0.5555555555555556,
             "#d8576b"
            ],
            [
             0.6666666666666666,
             "#ed7953"
            ],
            [
             0.7777777777777778,
             "#fb9f3a"
            ],
            [
             0.8888888888888888,
             "#fdca26"
            ],
            [
             1,
             "#f0f921"
            ]
           ]
          },
          "colorway": [
           "#636efa",
           "#EF553B",
           "#00cc96",
           "#ab63fa",
           "#FFA15A",
           "#19d3f3",
           "#FF6692",
           "#B6E880",
           "#FF97FF",
           "#FECB52"
          ],
          "font": {
           "color": "#2a3f5f"
          },
          "geo": {
           "bgcolor": "white",
           "lakecolor": "white",
           "landcolor": "#E5ECF6",
           "showlakes": true,
           "showland": true,
           "subunitcolor": "white"
          },
          "hoverlabel": {
           "align": "left"
          },
          "hovermode": "closest",
          "mapbox": {
           "style": "light"
          },
          "paper_bgcolor": "white",
          "plot_bgcolor": "#E5ECF6",
          "polar": {
           "angularaxis": {
            "gridcolor": "white",
            "linecolor": "white",
            "ticks": ""
           },
           "bgcolor": "#E5ECF6",
           "radialaxis": {
            "gridcolor": "white",
            "linecolor": "white",
            "ticks": ""
           }
          },
          "scene": {
           "xaxis": {
            "backgroundcolor": "#E5ECF6",
            "gridcolor": "white",
            "gridwidth": 2,
            "linecolor": "white",
            "showbackground": true,
            "ticks": "",
            "zerolinecolor": "white"
           },
           "yaxis": {
            "backgroundcolor": "#E5ECF6",
            "gridcolor": "white",
            "gridwidth": 2,
            "linecolor": "white",
            "showbackground": true,
            "ticks": "",
            "zerolinecolor": "white"
           },
           "zaxis": {
            "backgroundcolor": "#E5ECF6",
            "gridcolor": "white",
            "gridwidth": 2,
            "linecolor": "white",
            "showbackground": true,
            "ticks": "",
            "zerolinecolor": "white"
           }
          },
          "shapedefaults": {
           "line": {
            "color": "#2a3f5f"
           }
          },
          "ternary": {
           "aaxis": {
            "gridcolor": "white",
            "linecolor": "white",
            "ticks": ""
           },
           "baxis": {
            "gridcolor": "white",
            "linecolor": "white",
            "ticks": ""
           },
           "bgcolor": "#E5ECF6",
           "caxis": {
            "gridcolor": "white",
            "linecolor": "white",
            "ticks": ""
           }
          },
          "title": {
           "x": 0.05
          },
          "xaxis": {
           "automargin": true,
           "gridcolor": "white",
           "linecolor": "white",
           "ticks": "",
           "title": {
            "standoff": 15
           },
           "zerolinecolor": "white",
           "zerolinewidth": 2
          },
          "yaxis": {
           "automargin": true,
           "gridcolor": "white",
           "linecolor": "white",
           "ticks": "",
           "title": {
            "standoff": 15
           },
           "zerolinecolor": "white",
           "zerolinewidth": 2
          }
         }
        }
       }
      }
     },
     "metadata": {},
     "output_type": "display_data"
    }
   ],
   "source": [
    "import plotly.graph_objects as go\n",
    "import plotly.express as px\n",
    "import pandas as pd\n",
    "import math\n",
    "\n",
    "fig = go.Figure()\n",
    "\n",
    "for K in dict_imagesize:\n",
    "    V = dict_imagesize[K]\n",
    "    fig.add_trace(go.Scatter(\n",
    "        x=[K[1]], y=[K[0]],\n",
    "        name=str(K[1]) +'x'+ str(K[0]),text = V,\n",
    "        marker_size=math.sqrt(math.sqrt(V)),\n",
    "        ))\n",
    "    \n",
    "fig.show()"
   ]
  },
  {
   "cell_type": "code",
   "execution_count": null,
   "metadata": {},
   "outputs": [
    {
     "name": "stdout",
     "output_type": "stream",
     "text": [
      "[((720, 1280), 32119), ((743, 1280), 10154), ((739, 1280), 4477), ((724, 1280), 3230), ((721, 1280), 2897), ((800, 1280), 2780), ((749, 1280), 2347), ((747, 1280), 1629), ((825, 1280), 1454), ((719, 1280), 1415), ((723, 1280), 1343), ((821, 1280), 1197), ((744, 1280), 1188), ((807, 1040), 1066), ((734, 1280), 1064), ((819, 1280), 1010), ((750, 1280), 786), ((722, 1280), 776), ((841, 1280), 711), ((803, 1280), 637), ((801, 1280), 596), ((748, 1280), 581), ((725, 1280), 575), ((718, 1280), 552), ((824, 1280), 532), ((828, 1280), 526), ((772, 1028), 500), ((738, 1280), 468), ((827, 1280), 451), ((693, 1280), 330), ((535, 1280), 313), ((741, 1280), 310), ((802, 1280), 296), ((823, 1280), 293), ((826, 1280), 289), ((820, 1280), 254), ((986, 1280), 250), ((753, 1280), 250), ((780, 1036), 247), ((742, 1280), 232), ((822, 1280), 210), ((745, 1280), 204), ((572, 1280), 192), ((778, 1280), 184), ((816, 1280), 160), ((853, 1280), 155), ((846, 1092), 145), ((962, 1280), 145), ((754, 1280), 140), ((740, 1280), 139), ((547, 1280), 134), ((727, 1280), 125), ((903, 1168), 122), ((843, 1280), 122), ((804, 1280), 112), ((819, 1088), 106), ((726, 1280), 102), ((772, 1280), 94), ((703, 1192), 87), ((698, 1280), 79), ((686, 1280), 77), ((728, 1242), 77), ((768, 1024), 74), ((1049, 1280), 73), ((770, 1280), 70), ((1078, 1280), 70), ((687, 1172), 66), ((770, 1022), 64), ((751, 1280), 62), ((960, 1280), 61), ((1026, 1280), 59), ((671, 1280), 58), ((797, 1280), 57), ((690, 1280), 54), ((759, 1280), 52), ((807, 1039), 49), ((556, 1280), 49), ((983, 1280), 48), ((746, 1280), 48), ((593, 1052), 48), ((695, 1280), 48), ((876, 1164), 48), ((295, 384), 46), ((540, 1280), 44), ((656, 1088), 44), ((648, 347), 43), ((621, 1100), 42), ((686, 1218), 41), ((799, 1280), 38), ((663, 294), 38), ((1002, 1280), 37), ((743, 1269), 37), ((797, 1030), 36), ((984, 1280), 34), ((963, 1280), 34), ((672, 1193), 33), ((695, 1178), 33), ((707, 1205), 32), ((676, 1188), 31), ((756, 1280), 30), ((773, 1280), 30), ((703, 1280), 30), ((838, 1280), 30), ((744, 1122), 30), ((674, 1193), 29), ((815, 1050), 29), ((755, 1141), 29), ((715, 1280), 29), ((757, 1280), 29), ((129, 136), 28), ((670, 1136), 28), ((522, 924), 28), ((737, 1260), 27), ((981, 1280), 27), ((700, 1280), 27), ((761, 1012), 26), ((586, 1038), 26), ((692, 1280), 24), ((833, 1280), 23), ((927, 1280), 23), ((818, 1280), 23), ((799, 1032), 22), ((805, 1034), 22), ((542, 721), 22), ((698, 1238), 20), ((595, 1053), 20), ((977, 1280), 20), ((622, 1102), 20), ((775, 996), 19), ((1044, 1280), 19), ((831, 1280), 19), ((748, 1278), 19), ((460, 814), 18), ((696, 1180), 17), ((777, 1280), 17), ((985, 1280), 16), ((699, 1280), 16), ((654, 1158), 16), ((709, 1258), 16), ((961, 1280), 16), ((545, 723), 16), ((764, 1020), 15), ((500, 832), 15), ((679, 1204), 15), ((800, 1278), 15), ((181, 208), 15), ((704, 1248), 15), ((1061, 1280), 15), ((1016, 1280), 14), ((1105, 1280), 14), ((625, 1061), 14), ((613, 1088), 13), ((840, 1280), 13), ((965, 1280), 13), ((747, 1275), 13), ((322, 388), 13), ((1100, 1280), 12), ((1056, 1280), 12), ((1103, 1280), 12), ((730, 1165), 12), ((635, 1124), 12), ((740, 984), 11), ((1075, 1280), 11), ((661, 1172), 11), ((681, 1207), 11), ((633, 1071), 11), ((628, 1064), 11), ((457, 607), 11), ((1460, 1280), 11), ((736, 1280), 11), ((701, 1280), 10), ((791, 1018), 10), ((796, 1024), 10), ((959, 1280), 10), ((633, 1072), 10), ((696, 1280), 10), ((1058, 1280), 10), ((1059, 1280), 10), ((646, 1146), 10), ((987, 1280), 10), ((71, 124), 10), ((868, 1156), 10), ((906, 1280), 10), ((669, 1251), 10), ((921, 1192), 9), ((811, 1080), 9), ((679, 1280), 9), ((721, 1230), 9), ((674, 1145), 9), ((1139, 1280), 9), ((1165, 1280), 9), ((598, 1059), 9), ((693, 888), 9), ((484, 981), 9), ((580, 735), 9), ((114, 293), 9), ((791, 1258), 9), ((755, 1280), 9), ((135, 207), 8), ((670, 1280), 8), ((291, 510), 8), ((311, 546), 8), ((765, 1177), 8), ((674, 1194), 8), ((836, 1280), 8), ((579, 848), 8), ((743, 1141), 8), ((1062, 1280), 8), ((711, 1280), 8), ((1111, 1280), 8), ((1163, 1280), 8), ((648, 1098), 8), ((1036, 1280), 8), ((842, 1280), 8), ((431, 574), 8), ((937, 1215), 8), ((1048, 1280), 8), ((656, 1112), 8), ((159, 178), 8), ((691, 1280), 8), ((702, 1280), 7), ((1114, 1280), 7), ((1012, 1280), 7), ((675, 351), 7), ((1038, 1280), 7), ((1019, 1280), 7), ((845, 1280), 7), ((177, 262), 7), ((1045, 1280), 7), ((1108, 1280), 7), ((1035, 1280), 7), ((1068, 1280), 7), ((681, 1158), 7), ((571, 1012), 7), ((716, 1219), 7), ((1087, 1280), 7), ((94, 124), 7), ((569, 1280), 7), ((707, 1280), 7), ((857, 1280), 7), ((712, 1280), 7), ((668, 1280), 7), ((685, 1280), 6), ((957, 1280), 6), ((1080, 1280), 6), ((952, 1280), 6), ((1126, 1280), 6), ((966, 1280), 6), ((714, 1216), 6), ((1175, 1280), 6), ((694, 1242), 6), ((708, 1129), 6), ((1095, 1280), 6), ((1109, 1280), 6), ((1028, 1280), 6), ((1083, 1280), 6), ((400, 707), 6), ((766, 1017), 6), ((521, 659), 6), ((107, 136), 6), ((556, 986), 6), ((903, 1280), 6), ((690, 298), 6), ((714, 1280), 6), ((735, 1280), 5), ((943, 1280), 5), ((1043, 1280), 5), ((1050, 1280), 5), ((650, 1154), 5), ((1005, 1280), 5), ((681, 1280), 5), ((689, 1172), 5), ((547, 882), 5), ((739, 1260), 5), ((345, 344), 5), ((999, 1280), 5), ((1204, 1280), 5), ((648, 1100), 5), ((670, 1182), 5), ((760, 1280), 5), ((722, 926), 5), ((1131, 1280), 5), ((950, 1280), 5), ((1039, 1280), 5), ((1029, 1280), 5), ((958, 1277), 5), ((876, 1167), 5), ((737, 1280), 5), ((631, 1280), 5), ((413, 384), 5), ((710, 1280), 5), ((704, 1280), 4), ((939, 1280), 4), ((1128, 1280), 4), ((689, 1170), 4), ((621, 1050), 4), ((996, 1280), 4), ((1063, 1280), 4), ((197, 262), 4), ((1000, 1280), 4), ((629, 1114), 4), ((695, 1180), 4), ((661, 1168), 4), ((967, 1280), 4), ((1092, 1280), 4), ((801, 1029), 4), ((492, 619), 4), ((663, 1280), 4), ((580, 1030), 4), ((523, 926), 4), ((577, 1022), 4), ((714, 1178), 4), ((557, 936), 4), ((696, 1255), 4), ((730, 1280), 4), ((776, 1280), 4), ((930, 1280), 3), ((795, 1032), 3), ((1003, 1280), 3), ((372, 348), 3), ((711, 1194), 3), ((687, 914), 3), ((664, 1126), 3), ((891, 1280), 3), ((435, 719), 3), ((937, 1280), 3), ((702, 1248), 3), ((486, 647), 3), ((606, 1075), 3), ((675, 1146), 3), ((1079, 1280), 3), ((685, 308), 3), ((122, 150), 3), ((793, 1030), 3), ((791, 1280), 3), ((682, 1280), 3), ((797, 1026), 3), ((886, 1180), 2), ((935, 1280), 2), ((535, 844), 2), ((764, 1280), 2), ((673, 1280), 2), ((921, 1280), 2), ((679, 1038), 2), ((121, 161), 2), ((737, 1256), 2), ((1185, 1280), 2), ((1153, 1280), 2), ((727, 1239), 2), ((408, 543), 2), ((128, 227), 2), ((696, 1184), 2), ((466, 586), 2), ((616, 818), 2), ((1090, 1280), 2), ((355, 623), 2), ((657, 1114), 2), ((707, 1127), 2), ((762, 1280), 2), ((1047, 974), 2), ((495, 826), 2), ((815, 1280), 2), ((713, 1266), 2), ((770, 1026), 2), ((761, 1280), 2), ((643, 1132), 2), ((553, 1280), 2), ((805, 1280), 2), ((227, 384), 2), ((700, 308), 2), ((705, 1082), 2), ((722, 1088), 2), ((614, 1104), 2), ((587, 1100), 2), ((504, 1280), 2), ((618, 330), 2), ((929, 1238), 1), ((1088, 1280), 1), ((747, 1276), 1), ((386, 735), 1), ((326, 522), 1), ((798, 1274), 1), ((475, 895), 1), ((102, 136), 1), ((132, 193), 1), ((370, 458), 1), ((335, 446), 1), ((533, 989), 1), ((568, 1001), 1), ((525, 834), 1), ((639, 1133), 1), ((423, 677), 1), ((1143, 1280), 1), ((208, 367), 1), ((142, 250), 1), ((690, 1174), 1), ((100, 133), 1), ((1047, 1100), 1), ((729, 1254), 1), ((114, 201), 1), ((744, 1270), 1), ((685, 361), 1), ((1159, 1280), 1), ((1020, 1280), 1), ((610, 1082), 1), ((645, 1094), 1), ((606, 1024), 1), ((748, 1149), 1), ((607, 1025), 1), ((709, 1205), 1), ((827, 1066), 1), ((278, 1280), 1), ((822, 1056), 1), ((651, 830), 1), ((1431, 1280), 1), ((907, 1172), 1), ((752, 1280), 1), ((72, 124), 1), ((932, 1280), 1), ((577, 733), 1), ((590, 1049), 1), ((558, 938), 1), ((612, 1034), 1), ((668, 1134), 1), ((626, 1060), 1), ((591, 998), 1), ((161, 182), 1), ((658, 304), 1), ((609, 384), 1), ((818, 1262), 1), ((598, 1057), 1), ((2060, 1280), 1), ((839, 616), 1), ((254, 388), 1), ((838, 1080), 1), ((149, 154), 1), ((728, 1280), 1), ((902, 1280), 1), ((660, 1168), 1), ((674, 1280), 1), ((697, 1280), 1), ((303, 639), 1), ((523, 662), 1), ((763, 1016), 1), ((456, 300), 1), ((412, 300), 1), ((768, 1185), 1), ((507, 310), 1), ((549, 315), 1), ((519, 993), 1), ((591, 326), 1)]\n",
      "[1.7777777777777777, 1.7227456258411844, 1.7320703653585927, 1.7679558011049723, 1.7753120665742026, 1.6, 1.7089452603471296, 1.713520749665328, 1.5515151515151515, 1.7802503477051461, 1.7704011065006915, 1.5590742996345919, 1.7204301075268817, 1.288723667905824, 1.7438692098092643, 1.5628815628815629, 1.7066666666666668, 1.7728531855955678, 1.521997621878716, 1.594022415940224, 1.5980024968789013, 1.7112299465240641, 1.7655172413793103, 1.7827298050139275, 1.5533980582524272, 1.5458937198067633, 1.3316062176165804, 1.7344173441734418, 1.5477629987908101, 1.847041847041847, 2.392523364485981, 1.727395411605938, 1.5960099750623442, 1.5552855407047388, 1.549636803874092, 1.5609756097560976, 1.2981744421906694, 1.699867197875166, 1.3282051282051281, 1.725067385444744, 1.5571776155717763, 1.7181208053691275, 2.237762237762238, 1.6452442159383034, 1.5686274509803921, 1.5005861664712778, 1.2907801418439717, 1.3305613305613306, 1.6976127320954908, 1.7297297297297298, 2.340036563071298, 1.7606602475928472, 1.293466223698782, 1.5183867141162515, 1.592039800995025, 1.3284493284493284, 1.7630853994490359, 1.6580310880829014, 1.6955903271692745, 1.833810888252149, 1.8658892128279883, 1.706043956043956, 1.3333333333333333, 1.2202097235462346, 1.6623376623376624, 1.1873840445269017, 1.7059679767103348, 1.3272727272727274, 1.7043941411451398, 1.3333333333333333, 1.2475633528265107, 1.9076005961251863, 1.6060225846925973, 1.855072463768116, 1.686429512516469, 1.2874845105328376, 2.302158273381295, 1.3021363173957274, 1.7158176943699732, 1.7740303541315345, 1.841726618705036, 1.3287671232876712, 1.3016949152542372, 2.3703703703703702, 1.6585365853658536, 0.5354938271604939, 1.7713365539452497, 1.7755102040816326, 1.6020025031289111, 0.4434389140271493, 1.2774451097804391, 1.7079407806191118, 1.2923462986198244, 1.3008130081300813, 1.3291796469366564, 1.775297619047619, 1.6949640287769785, 1.7043847241867043, 1.757396449704142, 1.693121693121693, 1.6558861578266495, 1.8207681365576103, 1.5274463007159904, 1.5080645161290323, 1.7700296735905046, 1.2883435582822085, 1.5112582781456954, 1.7902097902097902, 1.690885072655218, 1.054263565891473, 1.6955223880597015, 1.7701149425287357, 1.7096336499321574, 1.3047910295616718, 1.8285714285714285, 1.3298291721419184, 1.7713310580204777, 1.8497109826589595, 1.5366146458583434, 1.3807982740021576, 1.56479217603912, 1.2916145181476846, 1.284472049689441, 1.330258302583026, 1.7736389684813754, 1.7697478991596638, 1.3101330603889458, 1.7717041800643087, 1.2851612903225806, 1.2260536398467432, 1.5403128760529483, 1.7085561497326203, 1.7695652173913043, 1.6954022988505748, 1.6473616473616473, 1.299492385786802, 1.8311874105865522, 1.7706422018348624, 1.774330042313117, 1.331945889698231, 1.3266055045871559, 1.3350785340314135, 1.664, 1.7731958762886597, 1.5975, 1.149171270718232, 1.7727272727272727, 1.2064090480678604, 1.2598425196850394, 1.158371040723982, 1.6976, 1.7748776508972268, 1.5238095238095237, 1.3264248704663213, 1.7068273092369477, 1.204968944099379, 1.1636363636363636, 1.2121212121212122, 1.1604714415231188, 1.595890410958904, 1.7700787401574802, 1.3297297297297297, 1.1906976744186046, 1.773071104387292, 1.7723935389133627, 1.6919431279620853, 1.694267515923567, 1.3282275711159737, 0.8767123287671232, 1.7391304347826086, 1.825962910128388, 1.2869785082174463, 1.2864321608040201, 1.3347236704900938, 1.693522906793049, 1.839080459770115, 1.2098298676748582, 1.2086874409820585, 1.7739938080495357, 1.2968591691995948, 1.7464788732394365, 1.3317972350230414, 1.4128035320088301, 1.8699551569506727, 1.294245385450597, 1.3316892725030827, 1.8851251840942562, 1.7059639389736476, 1.698813056379822, 1.1237928007023705, 1.0987124463519313, 1.7709030100334449, 1.2813852813852813, 2.0268595041322315, 1.2672413793103448, 2.5701754385964914, 1.5903919089759797, 1.695364238410596, 1.5333333333333334, 1.9104477611940298, 1.7525773195876289, 1.7556270096463023, 1.538562091503268, 1.771513353115727, 1.5311004784688995, 1.464594127806563, 1.5356662180349934, 1.2052730696798493, 1.80028129395218, 1.1521152115211521, 1.1006018916595013, 1.6944444444444444, 1.2355212355212355, 1.520190023752969, 1.331786542923434, 1.2966915688367129, 1.2213740458015268, 1.6951219512195121, 1.119496855345912, 1.8523878437047756, 1.8233618233618234, 1.1490125673249552, 1.2648221343873518, 0.52, 1.233140655105973, 1.2561334641805693, 1.514792899408284, 1.4802259887005649, 1.2248803827751196, 1.1552346570397112, 1.2367149758454106, 1.198501872659176, 1.7004405286343611, 1.7723292469352014, 1.702513966480447, 1.1775528978840846, 1.3191489361702127, 2.249560632688928, 1.8104667609618104, 1.4935822637106184, 1.797752808988764, 1.9161676646706587, 1.8686131386861313, 1.3375130616509927, 1.1851851851851851, 1.3445378151260505, 1.1367673179396092, 1.3250517598343685, 1.7030812324929971, 1.0893617021276596, 1.7896253602305476, 1.594632768361582, 1.1689497716894977, 1.1541929666366095, 1.245136186770428, 1.1819021237303786, 1.7675, 1.3276762402088773, 1.2648752399232246, 1.2710280373831775, 1.7733812949640289, 1.41749723145072, 0.4318840579710145, 1.792717086834734, 1.7414965986394557, 1.357370095440085, 1.227229146692234, 1.2190476190476192, 1.7753846153846153, 1.2736318407960199, 1.8795888399412628, 1.7010159651669086, 1.6124314442413163, 1.7050067658998647, 0.9971014492753624, 1.2812812812812813, 1.06312292358804, 1.6975308641975309, 1.7641791044776118, 1.6842105263157894, 1.2825484764542936, 1.1317418213969939, 1.3473684210526315, 1.231953801732435, 1.2439261418853256, 1.3329853862212944, 1.332191780821918, 1.7367706919945727, 2.028526148969889, 0.9297820823244553, 1.8028169014084507, 1.8181818181818181, 1.3631522896698616, 1.1347517730496455, 1.6981132075471699, 1.6908212560386473, 1.285140562248996, 1.2041392285983066, 1.3299492385786802, 1.28, 1.7710651828298887, 1.6978417266187051, 1.767019667170953, 1.3236814891416753, 1.1721611721611722, 1.2846441947565543, 1.258130081300813, 1.9306184012066365, 1.7758620689655173, 1.7705544933078394, 1.7712305025996533, 1.649859943977591, 1.680430879712747, 1.8031609195402298, 1.7534246575342465, 1.6494845360824741, 1.3763440860215055, 1.2981132075471697, 1.27617148554337, 0.9354838709677419, 1.6793248945147679, 1.3304221251819506, 1.6957831325301205, 1.4365881032547698, 1.6528735632183909, 1.3660618996798293, 1.7777777777777777, 1.331275720164609, 1.773927392739274, 1.6977777777777778, 1.18628359592215, 0.44963503649635034, 1.2295081967213115, 1.2988650693568726, 1.618204804045512, 1.8768328445747802, 1.28732747804266, 1.3318284424379232, 1.3689839572192513, 1.577570093457944, 1.675392670157068, 1.901931649331352, 1.3897937024972855, 1.5287187039764358, 1.3305785123966942, 1.7042062415196744, 1.080168776371308, 1.1101474414570685, 1.704264099037139, 1.3308823529411764, 1.7734375, 1.7011494252873562, 1.257510729613734, 1.327922077922078, 1.1743119266055047, 1.7549295774647888, 1.69558599695586, 1.5940594059405941, 1.6797900262467191, 0.9302769818529131, 1.6686868686868688, 1.5705521472392638, 1.7755960729312763, 1.3324675324675326, 1.6819973718791064, 1.76049766718507, 2.3146473779385173, 1.5900621118012421, 1.6916299559471366, 0.44, 1.5347517730496454, 1.5069252077562327, 1.798045602605863, 1.8739352640545144, 2.5396825396825395, 0.5339805825242718, 1.3326157158234662, 1.1764705882352942, 1.7081659973226238, 1.9041450777202074, 1.6012269938650308, 1.5964912280701755, 1.8842105263157896, 1.3333333333333333, 1.4621212121212122, 1.2378378378378379, 1.3313432835820895, 1.8555347091932457, 1.7623239436619718, 1.5885714285714285, 1.7730829420970267, 1.6004728132387707, 1.1198600174978128, 1.7644230769230769, 1.7605633802816902, 1.701449275362319, 1.33, 1.0506208213944603, 1.7201646090534979, 1.763157894736842, 1.706989247311828, 0.527007299270073, 1.1044003451251079, 1.2549019607843137, 1.7737704918032786, 1.6961240310077519, 1.6897689768976898, 1.536096256684492, 1.6886326194398682, 1.6995768688293371, 1.2889963724304716, 4.60431654676259, 1.2846715328467153, 1.2749615975422428, 0.8944793850454228, 1.2921719955898567, 1.702127659574468, 1.7222222222222223, 1.3733905579399142, 1.2703639514731369, 1.7779661016949153, 1.6810035842293907, 1.6895424836601307, 1.6976047904191616, 1.6932907348242812, 1.6886632825719121, 1.1304347826086956, 0.46200607902735563, 0.6305418719211823, 1.5427872860635696, 1.7675585284280937, 0.6213592233009708, 0.734207389749702, 1.5275590551181102, 1.2887828162291168, 1.0335570469798658, 1.7582417582417582, 1.419068736141907, 1.7696969696969698, 1.8991097922848665, 1.836441893830703, 2.108910891089109, 1.2657743785850861, 1.3315858453473133, 0.6578947368421053, 0.7281553398058253, 1.54296875, 0.611439842209073, 0.5737704918032787, 1.9132947976878614, 0.5516074450084603]\n",
      "[((591, 326), 1), ((519, 993), 1), ((549, 315), 1), ((507, 310), 1), ((768, 1185), 1), ((412, 300), 1), ((456, 300), 1), ((763, 1016), 1), ((523, 662), 1), ((303, 639), 1), ((697, 1280), 1), ((674, 1280), 1), ((660, 1168), 1), ((902, 1280), 1), ((728, 1280), 1), ((149, 154), 1), ((838, 1080), 1), ((254, 388), 1), ((839, 616), 1), ((2060, 1280), 1), ((598, 1057), 1), ((818, 1262), 1), ((609, 384), 1), ((658, 304), 1), ((161, 182), 1), ((591, 998), 1), ((626, 1060), 1), ((668, 1134), 1), ((612, 1034), 1), ((558, 938), 1), ((590, 1049), 1), ((577, 733), 1), ((932, 1280), 1), ((72, 124), 1), ((752, 1280), 1), ((907, 1172), 1), ((1431, 1280), 1), ((651, 830), 1), ((822, 1056), 1), ((278, 1280), 1), ((827, 1066), 1), ((709, 1205), 1), ((607, 1025), 1), ((748, 1149), 1), ((606, 1024), 1), ((645, 1094), 1), ((610, 1082), 1), ((1020, 1280), 1), ((1159, 1280), 1), ((685, 361), 1), ((744, 1270), 1), ((114, 201), 1), ((729, 1254), 1), ((1047, 1100), 1), ((100, 133), 1), ((690, 1174), 1), ((142, 250), 1), ((208, 367), 1), ((1143, 1280), 1), ((423, 677), 1), ((639, 1133), 1), ((525, 834), 1), ((568, 1001), 1), ((533, 989), 1), ((335, 446), 1), ((370, 458), 1), ((132, 193), 1), ((102, 136), 1), ((475, 895), 1), ((798, 1274), 1), ((326, 522), 1), ((386, 735), 1), ((747, 1276), 1), ((1088, 1280), 1), ((929, 1238), 1), ((618, 330), 2), ((504, 1280), 2), ((587, 1100), 2), ((614, 1104), 2), ((722, 1088), 2), ((705, 1082), 2), ((700, 308), 2), ((227, 384), 2), ((805, 1280), 2), ((553, 1280), 2), ((643, 1132), 2), ((761, 1280), 2), ((770, 1026), 2), ((713, 1266), 2), ((815, 1280), 2), ((495, 826), 2), ((1047, 974), 2), ((762, 1280), 2), ((707, 1127), 2), ((657, 1114), 2), ((355, 623), 2), ((1090, 1280), 2), ((616, 818), 2), ((466, 586), 2), ((696, 1184), 2), ((128, 227), 2), ((408, 543), 2), ((727, 1239), 2), ((1153, 1280), 2), ((1185, 1280), 2), ((737, 1256), 2), ((121, 161), 2), ((679, 1038), 2), ((921, 1280), 2), ((673, 1280), 2), ((764, 1280), 2), ((535, 844), 2), ((935, 1280), 2), ((886, 1180), 2), ((797, 1026), 3), ((682, 1280), 3), ((791, 1280), 3), ((793, 1030), 3), ((122, 150), 3), ((685, 308), 3), ((1079, 1280), 3), ((675, 1146), 3), ((606, 1075), 3), ((486, 647), 3), ((702, 1248), 3), ((937, 1280), 3), ((435, 719), 3), ((891, 1280), 3), ((664, 1126), 3), ((687, 914), 3), ((711, 1194), 3), ((372, 348), 3), ((1003, 1280), 3), ((795, 1032), 3), ((930, 1280), 3), ((776, 1280), 4), ((730, 1280), 4), ((696, 1255), 4), ((557, 936), 4), ((714, 1178), 4), ((577, 1022), 4), ((523, 926), 4), ((580, 1030), 4), ((663, 1280), 4), ((492, 619), 4), ((801, 1029), 4), ((1092, 1280), 4), ((967, 1280), 4), ((661, 1168), 4), ((695, 1180), 4), ((629, 1114), 4), ((1000, 1280), 4), ((197, 262), 4), ((1063, 1280), 4), ((996, 1280), 4), ((621, 1050), 4), ((689, 1170), 4), ((1128, 1280), 4), ((939, 1280), 4), ((704, 1280), 4), ((710, 1280), 5), ((413, 384), 5), ((631, 1280), 5), ((737, 1280), 5), ((876, 1167), 5), ((958, 1277), 5), ((1029, 1280), 5), ((1039, 1280), 5), ((950, 1280), 5), ((1131, 1280), 5), ((722, 926), 5), ((760, 1280), 5), ((670, 1182), 5), ((648, 1100), 5), ((1204, 1280), 5), ((999, 1280), 5), ((345, 344), 5), ((739, 1260), 5), ((547, 882), 5), ((689, 1172), 5), ((681, 1280), 5), ((1005, 1280), 5), ((650, 1154), 5), ((1050, 1280), 5), ((1043, 1280), 5), ((943, 1280), 5), ((735, 1280), 5), ((714, 1280), 6), ((690, 298), 6), ((903, 1280), 6), ((556, 986), 6), ((107, 136), 6), ((521, 659), 6), ((766, 1017), 6), ((400, 707), 6), ((1083, 1280), 6), ((1028, 1280), 6), ((1109, 1280), 6), ((1095, 1280), 6), ((708, 1129), 6), ((694, 1242), 6), ((1175, 1280), 6), ((714, 1216), 6), ((966, 1280), 6), ((1126, 1280), 6), ((952, 1280), 6), ((1080, 1280), 6), ((957, 1280), 6), ((685, 1280), 6), ((668, 1280), 7), ((712, 1280), 7), ((857, 1280), 7), ((707, 1280), 7), ((569, 1280), 7), ((94, 124), 7), ((1087, 1280), 7), ((716, 1219), 7), ((571, 1012), 7), ((681, 1158), 7), ((1068, 1280), 7), ((1035, 1280), 7), ((1108, 1280), 7), ((1045, 1280), 7), ((177, 262), 7), ((845, 1280), 7), ((1019, 1280), 7), ((1038, 1280), 7), ((675, 351), 7), ((1012, 1280), 7), ((1114, 1280), 7), ((702, 1280), 7), ((691, 1280), 8), ((159, 178), 8), ((656, 1112), 8), ((1048, 1280), 8), ((937, 1215), 8), ((431, 574), 8), ((842, 1280), 8), ((1036, 1280), 8), ((648, 1098), 8), ((1163, 1280), 8), ((1111, 1280), 8), ((711, 1280), 8), ((1062, 1280), 8), ((743, 1141), 8), ((579, 848), 8), ((836, 1280), 8), ((674, 1194), 8), ((765, 1177), 8), ((311, 546), 8), ((291, 510), 8), ((670, 1280), 8), ((135, 207), 8), ((755, 1280), 9), ((791, 1258), 9), ((114, 293), 9), ((580, 735), 9), ((484, 981), 9), ((693, 888), 9), ((598, 1059), 9), ((1165, 1280), 9), ((1139, 1280), 9), ((674, 1145), 9), ((721, 1230), 9), ((679, 1280), 9), ((811, 1080), 9), ((921, 1192), 9), ((669, 1251), 10), ((906, 1280), 10), ((868, 1156), 10), ((71, 124), 10), ((987, 1280), 10), ((646, 1146), 10), ((1059, 1280), 10), ((1058, 1280), 10), ((696, 1280), 10), ((633, 1072), 10), ((959, 1280), 10), ((796, 1024), 10), ((791, 1018), 10), ((701, 1280), 10), ((736, 1280), 11), ((1460, 1280), 11), ((457, 607), 11), ((628, 1064), 11), ((633, 1071), 11), ((681, 1207), 11), ((661, 1172), 11), ((1075, 1280), 11), ((740, 984), 11), ((635, 1124), 12), ((730, 1165), 12), ((1103, 1280), 12), ((1056, 1280), 12), ((1100, 1280), 12), ((322, 388), 13), ((747, 1275), 13), ((965, 1280), 13), ((840, 1280), 13), ((613, 1088), 13), ((625, 1061), 14), ((1105, 1280), 14), ((1016, 1280), 14), ((1061, 1280), 15), ((704, 1248), 15), ((181, 208), 15), ((800, 1278), 15), ((679, 1204), 15), ((500, 832), 15), ((764, 1020), 15), ((545, 723), 16), ((961, 1280), 16), ((709, 1258), 16), ((654, 1158), 16), ((699, 1280), 16), ((985, 1280), 16), ((777, 1280), 17), ((696, 1180), 17), ((460, 814), 18), ((748, 1278), 19), ((831, 1280), 19), ((1044, 1280), 19), ((775, 996), 19), ((622, 1102), 20), ((977, 1280), 20), ((595, 1053), 20), ((698, 1238), 20), ((542, 721), 22), ((805, 1034), 22), ((799, 1032), 22), ((818, 1280), 23), ((927, 1280), 23), ((833, 1280), 23), ((692, 1280), 24), ((586, 1038), 26), ((761, 1012), 26), ((700, 1280), 27), ((981, 1280), 27), ((737, 1260), 27), ((522, 924), 28), ((670, 1136), 28), ((129, 136), 28), ((757, 1280), 29), ((715, 1280), 29), ((755, 1141), 29), ((815, 1050), 29), ((674, 1193), 29), ((744, 1122), 30), ((838, 1280), 30), ((703, 1280), 30), ((773, 1280), 30), ((756, 1280), 30), ((676, 1188), 31), ((707, 1205), 32), ((695, 1178), 33), ((672, 1193), 33), ((963, 1280), 34), ((984, 1280), 34), ((797, 1030), 36), ((743, 1269), 37), ((1002, 1280), 37), ((663, 294), 38), ((799, 1280), 38), ((686, 1218), 41), ((621, 1100), 42), ((648, 347), 43), ((656, 1088), 44), ((540, 1280), 44), ((295, 384), 46), ((876, 1164), 48), ((695, 1280), 48), ((593, 1052), 48), ((746, 1280), 48), ((983, 1280), 48), ((556, 1280), 49), ((807, 1039), 49), ((759, 1280), 52), ((690, 1280), 54), ((797, 1280), 57), ((671, 1280), 58), ((1026, 1280), 59), ((960, 1280), 61), ((751, 1280), 62), ((770, 1022), 64), ((687, 1172), 66), ((1078, 1280), 70), ((770, 1280), 70), ((1049, 1280), 73), ((768, 1024), 74), ((728, 1242), 77), ((686, 1280), 77), ((698, 1280), 79), ((703, 1192), 87), ((772, 1280), 94), ((726, 1280), 102), ((819, 1088), 106), ((804, 1280), 112), ((843, 1280), 122), ((903, 1168), 122), ((727, 1280), 125), ((547, 1280), 134), ((740, 1280), 139), ((754, 1280), 140), ((962, 1280), 145), ((846, 1092), 145), ((853, 1280), 155), ((816, 1280), 160), ((778, 1280), 184), ((572, 1280), 192), ((745, 1280), 204), ((822, 1280), 210), ((742, 1280), 232), ((780, 1036), 247), ((753, 1280), 250), ((986, 1280), 250), ((820, 1280), 254), ((826, 1280), 289), ((823, 1280), 293), ((802, 1280), 296), ((741, 1280), 310), ((535, 1280), 313), ((693, 1280), 330), ((827, 1280), 451), ((738, 1280), 468), ((772, 1028), 500), ((828, 1280), 526), ((824, 1280), 532), ((718, 1280), 552), ((725, 1280), 575), ((748, 1280), 581), ((801, 1280), 596), ((803, 1280), 637), ((841, 1280), 711), ((722, 1280), 776), ((750, 1280), 786), ((819, 1280), 1010), ((734, 1280), 1064), ((807, 1040), 1066), ((744, 1280), 1188), ((821, 1280), 1197), ((723, 1280), 1343), ((719, 1280), 1415), ((825, 1280), 1454), ((747, 1280), 1629), ((749, 1280), 2347), ((800, 1280), 2780), ((721, 1280), 2897), ((724, 1280), 3230), ((739, 1280), 4477), ((743, 1280), 10154), ((720, 1280), 32119)]\n",
      "[0.5516074450084603, 1.9132947976878614, 0.5737704918032787, 0.611439842209073, 1.54296875, 0.7281553398058253, 0.6578947368421053, 1.3315858453473133, 1.2657743785850861, 2.108910891089109, 1.836441893830703, 1.8991097922848665, 1.7696969696969698, 1.419068736141907, 1.7582417582417582, 1.0335570469798658, 1.2887828162291168, 1.5275590551181102, 0.734207389749702, 0.6213592233009708, 1.7675585284280937, 1.5427872860635696, 0.6305418719211823, 0.46200607902735563, 1.1304347826086956, 1.6886632825719121, 1.6932907348242812, 1.6976047904191616, 1.6895424836601307, 1.6810035842293907, 1.7779661016949153, 1.2703639514731369, 1.3733905579399142, 1.7222222222222223, 1.702127659574468, 1.2921719955898567, 0.8944793850454228, 1.2749615975422428, 1.2846715328467153, 4.60431654676259, 1.2889963724304716, 1.6995768688293371, 1.6886326194398682, 1.536096256684492, 1.6897689768976898, 1.6961240310077519, 1.7737704918032786, 1.2549019607843137, 1.1044003451251079, 0.527007299270073, 1.706989247311828, 1.763157894736842, 1.7201646090534979, 1.0506208213944603, 1.33, 1.701449275362319, 1.7605633802816902, 1.7644230769230769, 1.1198600174978128, 1.6004728132387707, 1.7730829420970267, 1.5885714285714285, 1.7623239436619718, 1.8555347091932457, 1.3313432835820895, 1.2378378378378379, 1.4621212121212122, 1.3333333333333333, 1.8842105263157896, 1.5964912280701755, 1.6012269938650308, 1.9041450777202074, 1.7081659973226238, 1.1764705882352942, 1.3326157158234662, 0.5339805825242718, 2.5396825396825395, 1.8739352640545144, 1.798045602605863, 1.5069252077562327, 1.5347517730496454, 0.44, 1.6916299559471366, 1.5900621118012421, 2.3146473779385173, 1.76049766718507, 1.6819973718791064, 1.3324675324675326, 1.7755960729312763, 1.5705521472392638, 1.6686868686868688, 0.9302769818529131, 1.6797900262467191, 1.5940594059405941, 1.69558599695586, 1.7549295774647888, 1.1743119266055047, 1.327922077922078, 1.257510729613734, 1.7011494252873562, 1.7734375, 1.3308823529411764, 1.704264099037139, 1.1101474414570685, 1.080168776371308, 1.7042062415196744, 1.3305785123966942, 1.5287187039764358, 1.3897937024972855, 1.901931649331352, 1.675392670157068, 1.577570093457944, 1.3689839572192513, 1.3318284424379232, 1.28732747804266, 1.8768328445747802, 1.618204804045512, 1.2988650693568726, 1.2295081967213115, 0.44963503649635034, 1.18628359592215, 1.6977777777777778, 1.773927392739274, 1.331275720164609, 1.7777777777777777, 1.3660618996798293, 1.6528735632183909, 1.4365881032547698, 1.6957831325301205, 1.3304221251819506, 1.6793248945147679, 0.9354838709677419, 1.27617148554337, 1.2981132075471697, 1.3763440860215055, 1.6494845360824741, 1.7534246575342465, 1.8031609195402298, 1.680430879712747, 1.649859943977591, 1.7712305025996533, 1.7705544933078394, 1.7758620689655173, 1.9306184012066365, 1.258130081300813, 1.2846441947565543, 1.1721611721611722, 1.3236814891416753, 1.767019667170953, 1.6978417266187051, 1.7710651828298887, 1.28, 1.3299492385786802, 1.2041392285983066, 1.285140562248996, 1.6908212560386473, 1.6981132075471699, 1.1347517730496455, 1.3631522896698616, 1.8181818181818181, 1.8028169014084507, 0.9297820823244553, 2.028526148969889, 1.7367706919945727, 1.332191780821918, 1.3329853862212944, 1.2439261418853256, 1.231953801732435, 1.3473684210526315, 1.1317418213969939, 1.2825484764542936, 1.6842105263157894, 1.7641791044776118, 1.6975308641975309, 1.06312292358804, 1.2812812812812813, 0.9971014492753624, 1.7050067658998647, 1.6124314442413163, 1.7010159651669086, 1.8795888399412628, 1.2736318407960199, 1.7753846153846153, 1.2190476190476192, 1.227229146692234, 1.357370095440085, 1.7414965986394557, 1.792717086834734, 0.4318840579710145, 1.41749723145072, 1.7733812949640289, 1.2710280373831775, 1.2648752399232246, 1.3276762402088773, 1.7675, 1.1819021237303786, 1.245136186770428, 1.1541929666366095, 1.1689497716894977, 1.594632768361582, 1.7896253602305476, 1.0893617021276596, 1.7030812324929971, 1.3250517598343685, 1.1367673179396092, 1.3445378151260505, 1.1851851851851851, 1.3375130616509927, 1.8686131386861313, 1.9161676646706587, 1.797752808988764, 1.4935822637106184, 1.8104667609618104, 2.249560632688928, 1.3191489361702127, 1.1775528978840846, 1.702513966480447, 1.7723292469352014, 1.7004405286343611, 1.198501872659176, 1.2367149758454106, 1.1552346570397112, 1.2248803827751196, 1.4802259887005649, 1.514792899408284, 1.2561334641805693, 1.233140655105973, 0.52, 1.2648221343873518, 1.1490125673249552, 1.8233618233618234, 1.8523878437047756, 1.119496855345912, 1.6951219512195121, 1.2213740458015268, 1.2966915688367129, 1.331786542923434, 1.520190023752969, 1.2355212355212355, 1.6944444444444444, 1.1006018916595013, 1.1521152115211521, 1.80028129395218, 1.2052730696798493, 1.5356662180349934, 1.464594127806563, 1.5311004784688995, 1.771513353115727, 1.538562091503268, 1.7556270096463023, 1.7525773195876289, 1.9104477611940298, 1.5333333333333334, 1.695364238410596, 1.5903919089759797, 2.5701754385964914, 1.2672413793103448, 2.0268595041322315, 1.2813852813852813, 1.7709030100334449, 1.0987124463519313, 1.1237928007023705, 1.698813056379822, 1.7059639389736476, 1.8851251840942562, 1.3316892725030827, 1.294245385450597, 1.8699551569506727, 1.4128035320088301, 1.3317972350230414, 1.7464788732394365, 1.2968591691995948, 1.7739938080495357, 1.2086874409820585, 1.2098298676748582, 1.839080459770115, 1.693522906793049, 1.3347236704900938, 1.2864321608040201, 1.2869785082174463, 1.825962910128388, 1.7391304347826086, 0.8767123287671232, 1.3282275711159737, 1.694267515923567, 1.6919431279620853, 1.7723935389133627, 1.773071104387292, 1.1906976744186046, 1.3297297297297297, 1.7700787401574802, 1.595890410958904, 1.1604714415231188, 1.2121212121212122, 1.1636363636363636, 1.204968944099379, 1.7068273092369477, 1.3264248704663213, 1.5238095238095237, 1.7748776508972268, 1.6976, 1.158371040723982, 1.2598425196850394, 1.2064090480678604, 1.7727272727272727, 1.149171270718232, 1.5975, 1.7731958762886597, 1.664, 1.3350785340314135, 1.3266055045871559, 1.331945889698231, 1.774330042313117, 1.7706422018348624, 1.8311874105865522, 1.299492385786802, 1.6473616473616473, 1.6954022988505748, 1.7695652173913043, 1.7085561497326203, 1.5403128760529483, 1.2260536398467432, 1.2851612903225806, 1.7717041800643087, 1.3101330603889458, 1.7697478991596638, 1.7736389684813754, 1.330258302583026, 1.284472049689441, 1.2916145181476846, 1.56479217603912, 1.3807982740021576, 1.5366146458583434, 1.8497109826589595, 1.7713310580204777, 1.3298291721419184, 1.8285714285714285, 1.3047910295616718, 1.7096336499321574, 1.7701149425287357, 1.6955223880597015, 1.054263565891473, 1.690885072655218, 1.7902097902097902, 1.5112582781456954, 1.2883435582822085, 1.7700296735905046, 1.5080645161290323, 1.5274463007159904, 1.8207681365576103, 1.6558861578266495, 1.693121693121693, 1.757396449704142, 1.7043847241867043, 1.6949640287769785, 1.775297619047619, 1.3291796469366564, 1.3008130081300813, 1.2923462986198244, 1.7079407806191118, 1.2774451097804391, 0.4434389140271493, 1.6020025031289111, 1.7755102040816326, 1.7713365539452497, 0.5354938271604939, 1.6585365853658536, 2.3703703703703702, 1.3016949152542372, 1.3287671232876712, 1.841726618705036, 1.7740303541315345, 1.7158176943699732, 1.3021363173957274, 2.302158273381295, 1.2874845105328376, 1.686429512516469, 1.855072463768116, 1.6060225846925973, 1.9076005961251863, 1.2475633528265107, 1.3333333333333333, 1.7043941411451398, 1.3272727272727274, 1.7059679767103348, 1.1873840445269017, 1.6623376623376624, 1.2202097235462346, 1.3333333333333333, 1.706043956043956, 1.8658892128279883, 1.833810888252149, 1.6955903271692745, 1.6580310880829014, 1.7630853994490359, 1.3284493284493284, 1.592039800995025, 1.5183867141162515, 1.293466223698782, 1.7606602475928472, 2.340036563071298, 1.7297297297297298, 1.6976127320954908, 1.3305613305613306, 1.2907801418439717, 1.5005861664712778, 1.5686274509803921, 1.6452442159383034, 2.237762237762238, 1.7181208053691275, 1.5571776155717763, 1.725067385444744, 1.3282051282051281, 1.699867197875166, 1.2981744421906694, 1.5609756097560976, 1.549636803874092, 1.5552855407047388, 1.5960099750623442, 1.727395411605938, 2.392523364485981, 1.847041847041847, 1.5477629987908101, 1.7344173441734418, 1.3316062176165804, 1.5458937198067633, 1.5533980582524272, 1.7827298050139275, 1.7655172413793103, 1.7112299465240641, 1.5980024968789013, 1.594022415940224, 1.521997621878716, 1.7728531855955678, 1.7066666666666668, 1.5628815628815629, 1.7438692098092643, 1.288723667905824, 1.7204301075268817, 1.5590742996345919, 1.7704011065006915, 1.7802503477051461, 1.5515151515151515, 1.713520749665328, 1.7089452603471296, 1.6, 1.7753120665742026, 1.7679558011049723, 1.7320703653585927, 1.7227456258411844, 1.7777777777777777]\n"
     ]
    }
   ],
   "source": [
    "vv = list(dict_imagesize.values())\n",
    "ss = sorted(dict_imagesize.items(), key=lambda x: x[1],reverse=True)\n",
    "\n",
    "print(ss)\n",
    "map_ratio = lambda x : x[0][1]/x[0][0]\n",
    "p = [map_ratio(s) for s in ss]\n",
    "\n",
    "print(p)\n",
    "\n",
    "ss.reverse()\n",
    "print(ss)\n",
    "p.reverse()\n",
    "print(p)\n",
    "\n"
   ]
  },
  {
   "cell_type": "code",
   "execution_count": null,
   "metadata": {},
   "outputs": [
    {
     "name": "stdout",
     "output_type": "stream",
     "text": [
      "Requirement already satisfied: nbformat in .\\venv\\lib\\site-packages (5.8.0)\n",
      "Requirement already satisfied: fastjsonschema in .\\venv\\lib\\site-packages (from nbformat) (2.16.3)\n",
      "Requirement already satisfied: jsonschema>=2.6 in .\\venv\\lib\\site-packages (from nbformat) (4.17.3)\n",
      "Requirement already satisfied: jupyter-core in .\\venv\\lib\\site-packages (from nbformat) (5.3.0)\n",
      "Requirement already satisfied: traitlets>=5.1 in .\\venv\\lib\\site-packages (from nbformat) (5.9.0)\n",
      "Requirement already satisfied: attrs>=17.4.0 in .\\venv\\lib\\site-packages (from jsonschema>=2.6->nbformat) (22.2.0)\n",
      "Requirement already satisfied: pyrsistent!=0.17.0,!=0.17.1,!=0.17.2,>=0.14.0 in .\\venv\\lib\\site-packages (from jsonschema>=2.6->nbformat) (0.19.3)\n",
      "Requirement already satisfied: platformdirs>=2.5 in .\\venv\\lib\\site-packages (from jupyter-core->nbformat) (3.1.1)\n",
      "Requirement already satisfied: pywin32>=300 in .\\venv\\lib\\site-packages (from jupyter-core->nbformat) (305)\n",
      "Note: you may need to restart the kernel to use updated packages.\n"
     ]
    },
    {
     "name": "stderr",
     "output_type": "stream",
     "text": [
      "\n",
      "[notice] A new release of pip available: 22.3.1 -> 23.0.1\n",
      "[notice] To update, run: python.exe -m pip install --upgrade pip\n"
     ]
    }
   ],
   "source": [
    "%pip install nbformat"
   ]
  },
  {
   "cell_type": "code",
   "execution_count": 16,
   "metadata": {},
   "outputs": [
    {
     "name": "stdout",
     "output_type": "stream",
     "text": [
      "Read a new frame:  True\n",
      "Read a new frame:  True\n",
      "Read a new frame:  True\n",
      "Read a new frame:  True\n",
      "Read a new frame:  True\n",
      "Read a new frame:  True\n",
      "Read a new frame:  True\n",
      "Read a new frame:  True\n",
      "Read a new frame:  True\n",
      "Read a new frame:  True\n",
      "Read a new frame:  True\n",
      "Read a new frame:  True\n",
      "Read a new frame:  True\n",
      "Read a new frame:  True\n",
      "Read a new frame:  True\n",
      "Read a new frame:  True\n",
      "Read a new frame:  True\n",
      "Read a new frame:  True\n",
      "Read a new frame:  True\n",
      "Read a new frame:  True\n",
      "Read a new frame:  True\n",
      "Read a new frame:  True\n",
      "Read a new frame:  True\n",
      "Read a new frame:  True\n",
      "Read a new frame:  True\n",
      "Read a new frame:  True\n",
      "Read a new frame:  True\n",
      "Read a new frame:  True\n",
      "Read a new frame:  True\n",
      "Read a new frame:  True\n",
      "Read a new frame:  True\n",
      "Read a new frame:  True\n",
      "Read a new frame:  True\n",
      "Read a new frame:  True\n",
      "Read a new frame:  True\n",
      "Read a new frame:  True\n",
      "Read a new frame:  True\n",
      "Read a new frame:  True\n",
      "Read a new frame:  True\n",
      "Read a new frame:  True\n",
      "Read a new frame:  True\n",
      "Read a new frame:  True\n",
      "Read a new frame:  True\n",
      "Read a new frame:  True\n",
      "Read a new frame:  True\n",
      "Read a new frame:  True\n",
      "Read a new frame:  True\n",
      "Read a new frame:  True\n",
      "Read a new frame:  True\n",
      "Read a new frame:  True\n",
      "Read a new frame:  True\n",
      "Read a new frame:  True\n",
      "Read a new frame:  True\n",
      "Read a new frame:  True\n",
      "Read a new frame:  True\n",
      "Read a new frame:  True\n",
      "Read a new frame:  True\n",
      "Read a new frame:  True\n",
      "Read a new frame:  True\n",
      "Read a new frame:  True\n",
      "Read a new frame:  True\n",
      "Read a new frame:  True\n",
      "Read a new frame:  True\n",
      "Read a new frame:  True\n",
      "Read a new frame:  True\n",
      "Read a new frame:  True\n",
      "Read a new frame:  True\n",
      "Read a new frame:  True\n",
      "Read a new frame:  True\n",
      "Read a new frame:  True\n",
      "Read a new frame:  True\n",
      "Read a new frame:  True\n",
      "Read a new frame:  True\n",
      "Read a new frame:  True\n",
      "Read a new frame:  True\n",
      "Read a new frame:  True\n",
      "Read a new frame:  True\n",
      "Read a new frame:  True\n",
      "Read a new frame:  True\n",
      "Read a new frame:  True\n",
      "Read a new frame:  True\n",
      "Read a new frame:  True\n",
      "Read a new frame:  True\n",
      "Read a new frame:  True\n",
      "Read a new frame:  True\n",
      "Read a new frame:  True\n",
      "Read a new frame:  True\n",
      "Read a new frame:  True\n",
      "Read a new frame:  True\n",
      "Read a new frame:  True\n",
      "Read a new frame:  True\n",
      "Read a new frame:  True\n",
      "Read a new frame:  True\n",
      "Read a new frame:  True\n",
      "Read a new frame:  True\n",
      "Read a new frame:  True\n",
      "Read a new frame:  True\n",
      "Read a new frame:  True\n",
      "Read a new frame:  True\n",
      "Read a new frame:  True\n",
      "Read a new frame:  True\n",
      "Read a new frame:  True\n",
      "Read a new frame:  True\n",
      "Read a new frame:  True\n",
      "Read a new frame:  True\n",
      "Read a new frame:  True\n",
      "Read a new frame:  True\n",
      "Read a new frame:  True\n",
      "Read a new frame:  True\n",
      "Read a new frame:  True\n",
      "Read a new frame:  True\n",
      "Read a new frame:  True\n",
      "Read a new frame:  True\n",
      "Read a new frame:  True\n",
      "Read a new frame:  True\n",
      "Read a new frame:  True\n",
      "Read a new frame:  True\n",
      "Read a new frame:  True\n",
      "Read a new frame:  True\n",
      "Read a new frame:  True\n",
      "Read a new frame:  True\n",
      "Read a new frame:  True\n",
      "Read a new frame:  True\n",
      "Read a new frame:  True\n",
      "Read a new frame:  True\n",
      "Read a new frame:  True\n",
      "Read a new frame:  True\n",
      "Read a new frame:  True\n",
      "Read a new frame:  True\n",
      "Read a new frame:  True\n",
      "Read a new frame:  True\n",
      "Read a new frame:  True\n",
      "Read a new frame:  True\n",
      "Read a new frame:  True\n",
      "Read a new frame:  True\n",
      "Read a new frame:  True\n",
      "Read a new frame:  True\n",
      "Read a new frame:  True\n",
      "Read a new frame:  True\n",
      "Read a new frame:  True\n",
      "Read a new frame:  True\n",
      "Read a new frame:  True\n",
      "Read a new frame:  True\n",
      "Read a new frame:  True\n",
      "Read a new frame:  True\n",
      "Read a new frame:  True\n",
      "Read a new frame:  True\n",
      "Read a new frame:  True\n",
      "Read a new frame:  True\n",
      "Read a new frame:  True\n",
      "Read a new frame:  True\n",
      "Read a new frame:  True\n",
      "Read a new frame:  True\n",
      "Read a new frame:  True\n",
      "Read a new frame:  True\n",
      "Read a new frame:  True\n",
      "Read a new frame:  True\n",
      "Read a new frame:  True\n",
      "Read a new frame:  True\n",
      "Read a new frame:  True\n",
      "Read a new frame:  True\n",
      "Read a new frame:  True\n",
      "Read a new frame:  True\n",
      "Read a new frame:  True\n",
      "Read a new frame:  True\n",
      "Read a new frame:  True\n",
      "Read a new frame:  True\n",
      "Read a new frame:  True\n",
      "Read a new frame:  True\n",
      "Read a new frame:  True\n",
      "Read a new frame:  True\n",
      "Read a new frame:  True\n",
      "Read a new frame:  True\n",
      "Read a new frame:  True\n",
      "Read a new frame:  True\n",
      "Read a new frame:  True\n",
      "Read a new frame:  True\n",
      "Read a new frame:  True\n",
      "Read a new frame:  True\n",
      "Read a new frame:  True\n",
      "Read a new frame:  True\n",
      "Read a new frame:  True\n",
      "Read a new frame:  True\n",
      "Read a new frame:  True\n",
      "Read a new frame:  True\n",
      "Read a new frame:  True\n",
      "Read a new frame:  True\n",
      "Read a new frame:  True\n",
      "Read a new frame:  True\n",
      "Read a new frame:  True\n",
      "Read a new frame:  True\n",
      "Read a new frame:  True\n",
      "Read a new frame:  True\n",
      "Read a new frame:  True\n",
      "Read a new frame:  True\n",
      "Read a new frame:  True\n",
      "Read a new frame:  True\n",
      "Read a new frame:  True\n",
      "Read a new frame:  True\n",
      "Read a new frame:  True\n",
      "Read a new frame:  True\n",
      "Read a new frame:  True\n",
      "Read a new frame:  True\n",
      "Read a new frame:  True\n",
      "Read a new frame:  True\n",
      "Read a new frame:  True\n",
      "Read a new frame:  True\n",
      "Read a new frame:  True\n",
      "Read a new frame:  True\n",
      "Read a new frame:  True\n",
      "Read a new frame:  True\n",
      "Read a new frame:  True\n",
      "Read a new frame:  True\n",
      "Read a new frame:  True\n",
      "Read a new frame:  True\n",
      "Read a new frame:  True\n",
      "Read a new frame:  True\n",
      "Read a new frame:  True\n",
      "Read a new frame:  True\n",
      "Read a new frame:  True\n",
      "Read a new frame:  True\n",
      "Read a new frame:  True\n",
      "Read a new frame:  True\n",
      "Read a new frame:  True\n",
      "Read a new frame:  True\n",
      "Read a new frame:  True\n",
      "Read a new frame:  True\n",
      "Read a new frame:  True\n",
      "Read a new frame:  True\n",
      "Read a new frame:  True\n",
      "Read a new frame:  True\n",
      "Read a new frame:  True\n",
      "Read a new frame:  True\n",
      "Read a new frame:  True\n",
      "Read a new frame:  True\n",
      "Read a new frame:  True\n",
      "Read a new frame:  True\n",
      "Read a new frame:  True\n",
      "Read a new frame:  True\n",
      "Read a new frame:  True\n",
      "Read a new frame:  True\n",
      "Read a new frame:  True\n",
      "Read a new frame:  True\n",
      "Read a new frame:  True\n",
      "Read a new frame:  True\n",
      "Read a new frame:  True\n",
      "Read a new frame:  True\n",
      "Read a new frame:  True\n",
      "Read a new frame:  True\n",
      "Read a new frame:  True\n",
      "Read a new frame:  True\n",
      "Read a new frame:  True\n",
      "Read a new frame:  True\n",
      "Read a new frame:  True\n",
      "Read a new frame:  True\n",
      "Read a new frame:  True\n",
      "Read a new frame:  True\n",
      "Read a new frame:  True\n",
      "Read a new frame:  True\n",
      "Read a new frame:  True\n",
      "Read a new frame:  True\n",
      "Read a new frame:  True\n",
      "Read a new frame:  True\n",
      "Read a new frame:  True\n",
      "Read a new frame:  True\n",
      "Read a new frame:  True\n",
      "Read a new frame:  True\n",
      "Read a new frame:  True\n",
      "Read a new frame:  True\n",
      "Read a new frame:  True\n",
      "Read a new frame:  True\n",
      "Read a new frame:  True\n",
      "Read a new frame:  True\n",
      "Read a new frame:  True\n",
      "Read a new frame:  True\n",
      "Read a new frame:  True\n",
      "Read a new frame:  True\n",
      "Read a new frame:  True\n",
      "Read a new frame:  True\n",
      "Read a new frame:  True\n",
      "Read a new frame:  True\n",
      "Read a new frame:  True\n",
      "Read a new frame:  True\n",
      "Read a new frame:  True\n",
      "Read a new frame:  True\n",
      "Read a new frame:  True\n",
      "Read a new frame:  True\n",
      "Read a new frame:  True\n",
      "Read a new frame:  True\n",
      "Read a new frame:  True\n",
      "Read a new frame:  True\n",
      "Read a new frame:  True\n",
      "Read a new frame:  True\n",
      "Read a new frame:  True\n",
      "Read a new frame:  True\n",
      "Read a new frame:  True\n",
      "Read a new frame:  True\n",
      "Read a new frame:  True\n",
      "Read a new frame:  True\n",
      "Read a new frame:  True\n",
      "Read a new frame:  True\n",
      "Read a new frame:  True\n",
      "Read a new frame:  True\n",
      "Read a new frame:  True\n",
      "Read a new frame:  True\n",
      "Read a new frame:  True\n",
      "Read a new frame:  True\n",
      "Read a new frame:  True\n",
      "Read a new frame:  True\n",
      "Read a new frame:  True\n",
      "Read a new frame:  True\n",
      "Read a new frame:  True\n",
      "Read a new frame:  True\n",
      "Read a new frame:  True\n",
      "Read a new frame:  True\n",
      "Read a new frame:  True\n",
      "Read a new frame:  True\n",
      "Read a new frame:  True\n",
      "Read a new frame:  True\n",
      "Read a new frame:  True\n",
      "Read a new frame:  True\n",
      "Read a new frame:  True\n",
      "Read a new frame:  True\n",
      "Read a new frame:  True\n",
      "Read a new frame:  True\n",
      "Read a new frame:  True\n",
      "Read a new frame:  True\n",
      "Read a new frame:  True\n",
      "Read a new frame:  True\n",
      "Read a new frame:  True\n",
      "Read a new frame:  True\n",
      "Read a new frame:  True\n",
      "Read a new frame:  True\n",
      "Read a new frame:  True\n",
      "Read a new frame:  True\n",
      "Read a new frame:  True\n",
      "Read a new frame:  True\n",
      "Read a new frame:  True\n",
      "Read a new frame:  True\n",
      "Read a new frame:  True\n",
      "Read a new frame:  True\n",
      "Read a new frame:  True\n",
      "Read a new frame:  True\n",
      "Read a new frame:  True\n",
      "Read a new frame:  True\n",
      "Read a new frame:  True\n",
      "Read a new frame:  True\n",
      "Read a new frame:  True\n",
      "Read a new frame:  True\n",
      "Read a new frame:  True\n",
      "Read a new frame:  True\n",
      "Read a new frame:  True\n",
      "Read a new frame:  True\n",
      "Read a new frame:  True\n",
      "Read a new frame:  True\n",
      "Read a new frame:  True\n",
      "Read a new frame:  True\n",
      "Read a new frame:  True\n",
      "Read a new frame:  True\n",
      "Read a new frame:  True\n",
      "Read a new frame:  True\n",
      "Read a new frame:  True\n",
      "Read a new frame:  True\n",
      "Read a new frame:  True\n",
      "Read a new frame:  True\n",
      "Read a new frame:  True\n",
      "Read a new frame:  True\n",
      "Read a new frame:  True\n",
      "Read a new frame:  True\n",
      "Read a new frame:  True\n",
      "Read a new frame:  True\n",
      "Read a new frame:  True\n",
      "Read a new frame:  True\n",
      "Read a new frame:  True\n",
      "Read a new frame:  True\n",
      "Read a new frame:  True\n",
      "Read a new frame:  True\n",
      "Read a new frame:  True\n",
      "Read a new frame:  True\n",
      "Read a new frame:  True\n",
      "Read a new frame:  True\n",
      "Read a new frame:  True\n",
      "Read a new frame:  True\n",
      "Read a new frame:  True\n",
      "Read a new frame:  True\n",
      "Read a new frame:  True\n",
      "Read a new frame:  True\n",
      "Read a new frame:  True\n",
      "Read a new frame:  True\n",
      "Read a new frame:  True\n",
      "Read a new frame:  True\n",
      "Read a new frame:  True\n",
      "Read a new frame:  True\n",
      "Read a new frame:  True\n",
      "Read a new frame:  True\n",
      "Read a new frame:  True\n",
      "Read a new frame:  True\n",
      "Read a new frame:  True\n",
      "Read a new frame:  True\n",
      "Read a new frame:  True\n",
      "Read a new frame:  True\n",
      "Read a new frame:  True\n",
      "Read a new frame:  True\n",
      "Read a new frame:  True\n",
      "Read a new frame:  True\n",
      "Read a new frame:  True\n",
      "Read a new frame:  True\n",
      "Read a new frame:  True\n",
      "Read a new frame:  True\n",
      "Read a new frame:  True\n",
      "Read a new frame:  True\n",
      "Read a new frame:  True\n",
      "Read a new frame:  True\n",
      "Read a new frame:  True\n",
      "Read a new frame:  True\n",
      "Read a new frame:  True\n",
      "Read a new frame:  True\n",
      "Read a new frame:  True\n",
      "Read a new frame:  True\n",
      "Read a new frame:  True\n",
      "Read a new frame:  True\n",
      "Read a new frame:  True\n",
      "Read a new frame:  True\n",
      "Read a new frame:  True\n",
      "Read a new frame:  True\n",
      "Read a new frame:  True\n",
      "Read a new frame:  True\n",
      "Read a new frame:  True\n",
      "Read a new frame:  True\n",
      "Read a new frame:  True\n",
      "Read a new frame:  True\n",
      "Read a new frame:  True\n",
      "Read a new frame:  True\n",
      "Read a new frame:  True\n",
      "Read a new frame:  True\n",
      "Read a new frame:  True\n",
      "Read a new frame:  True\n",
      "Read a new frame:  True\n",
      "Read a new frame:  True\n",
      "Read a new frame:  True\n",
      "Read a new frame:  True\n",
      "Read a new frame:  True\n",
      "Read a new frame:  True\n",
      "Read a new frame:  True\n",
      "Read a new frame:  True\n",
      "Read a new frame:  True\n",
      "Read a new frame:  True\n",
      "Read a new frame:  True\n",
      "Read a new frame:  True\n",
      "Read a new frame:  True\n",
      "Read a new frame:  True\n",
      "Read a new frame:  True\n",
      "Read a new frame:  True\n",
      "Read a new frame:  True\n",
      "Read a new frame:  True\n",
      "Read a new frame:  True\n",
      "Read a new frame:  True\n",
      "Read a new frame:  True\n",
      "Read a new frame:  True\n",
      "Read a new frame:  True\n",
      "Read a new frame:  True\n",
      "Read a new frame:  True\n",
      "Read a new frame:  True\n",
      "Read a new frame:  True\n",
      "Read a new frame:  True\n",
      "Read a new frame:  True\n",
      "Read a new frame:  True\n",
      "Read a new frame:  True\n",
      "Read a new frame:  True\n",
      "Read a new frame:  True\n",
      "Read a new frame:  True\n",
      "Read a new frame:  True\n",
      "Read a new frame:  True\n",
      "Read a new frame:  True\n",
      "Read a new frame:  True\n",
      "Read a new frame:  True\n",
      "Read a new frame:  True\n",
      "Read a new frame:  True\n",
      "Read a new frame:  True\n",
      "Read a new frame:  True\n",
      "Read a new frame:  True\n",
      "Read a new frame:  True\n",
      "Read a new frame:  True\n",
      "Read a new frame:  True\n",
      "Read a new frame:  True\n",
      "Read a new frame:  True\n",
      "Read a new frame:  True\n",
      "Read a new frame:  True\n",
      "Read a new frame:  True\n",
      "Read a new frame:  True\n",
      "Read a new frame:  True\n",
      "Read a new frame:  True\n",
      "Read a new frame:  True\n",
      "Read a new frame:  True\n",
      "Read a new frame:  True\n",
      "Read a new frame:  True\n",
      "Read a new frame:  True\n",
      "Read a new frame:  True\n",
      "Read a new frame:  True\n",
      "Read a new frame:  True\n",
      "Read a new frame:  True\n",
      "Read a new frame:  True\n",
      "Read a new frame:  True\n",
      "Read a new frame:  True\n",
      "Read a new frame:  True\n",
      "Read a new frame:  True\n",
      "Read a new frame:  True\n",
      "Read a new frame:  True\n",
      "Read a new frame:  True\n",
      "Read a new frame:  True\n",
      "Read a new frame:  True\n",
      "Read a new frame:  True\n",
      "Read a new frame:  True\n",
      "Read a new frame:  True\n",
      "Read a new frame:  True\n",
      "Read a new frame:  True\n",
      "Read a new frame:  True\n",
      "Read a new frame:  True\n",
      "Read a new frame:  True\n",
      "Read a new frame:  True\n",
      "Read a new frame:  True\n",
      "Read a new frame:  True\n",
      "Read a new frame:  True\n",
      "Read a new frame:  True\n",
      "Read a new frame:  True\n",
      "Read a new frame:  True\n",
      "Read a new frame:  True\n",
      "Read a new frame:  True\n",
      "Read a new frame:  True\n",
      "Read a new frame:  True\n",
      "Read a new frame:  True\n",
      "Read a new frame:  True\n",
      "Read a new frame:  True\n",
      "Read a new frame:  True\n",
      "Read a new frame:  True\n",
      "Read a new frame:  True\n",
      "Read a new frame:  True\n",
      "Read a new frame:  True\n",
      "Read a new frame:  True\n",
      "Read a new frame:  True\n",
      "Read a new frame:  True\n",
      "Read a new frame:  True\n",
      "Read a new frame:  True\n",
      "Read a new frame:  True\n",
      "Read a new frame:  True\n",
      "Read a new frame:  True\n",
      "Read a new frame:  True\n",
      "Read a new frame:  True\n",
      "Read a new frame:  True\n",
      "Read a new frame:  True\n",
      "Read a new frame:  True\n",
      "Read a new frame:  True\n",
      "Read a new frame:  True\n",
      "Read a new frame:  True\n",
      "Read a new frame:  True\n",
      "Read a new frame:  True\n",
      "Read a new frame:  True\n",
      "Read a new frame:  True\n",
      "Read a new frame:  True\n",
      "Read a new frame:  True\n",
      "Read a new frame:  True\n",
      "Read a new frame:  True\n",
      "Read a new frame:  True\n",
      "Read a new frame:  True\n",
      "Read a new frame:  True\n",
      "Read a new frame:  True\n",
      "Read a new frame:  True\n",
      "Read a new frame:  True\n",
      "Read a new frame:  True\n",
      "Read a new frame:  True\n",
      "Read a new frame:  True\n",
      "Read a new frame:  True\n",
      "Read a new frame:  True\n",
      "Read a new frame:  True\n",
      "Read a new frame:  True\n",
      "Read a new frame:  True\n",
      "Read a new frame:  True\n",
      "Read a new frame:  True\n",
      "Read a new frame:  True\n",
      "Read a new frame:  True\n",
      "Read a new frame:  True\n",
      "Read a new frame:  True\n",
      "Read a new frame:  True\n",
      "Read a new frame:  True\n",
      "Read a new frame:  True\n",
      "Read a new frame:  True\n",
      "Read a new frame:  True\n",
      "Read a new frame:  True\n",
      "Read a new frame:  True\n",
      "Read a new frame:  True\n",
      "Read a new frame:  True\n",
      "Read a new frame:  True\n",
      "Read a new frame:  True\n",
      "Read a new frame:  True\n",
      "Read a new frame:  True\n",
      "Read a new frame:  True\n",
      "Read a new frame:  True\n",
      "Read a new frame:  True\n",
      "Read a new frame:  True\n",
      "Read a new frame:  True\n",
      "Read a new frame:  True\n",
      "Read a new frame:  True\n",
      "Read a new frame:  True\n",
      "Read a new frame:  True\n",
      "Read a new frame:  True\n",
      "Read a new frame:  True\n",
      "Read a new frame:  True\n",
      "Read a new frame:  True\n",
      "Read a new frame:  True\n",
      "Read a new frame:  True\n",
      "Read a new frame:  True\n",
      "Read a new frame:  True\n",
      "Read a new frame:  True\n",
      "Read a new frame:  True\n",
      "Read a new frame:  True\n",
      "Read a new frame:  True\n",
      "Read a new frame:  True\n",
      "Read a new frame:  True\n",
      "Read a new frame:  True\n",
      "Read a new frame:  True\n",
      "Read a new frame:  True\n",
      "Read a new frame:  True\n",
      "Read a new frame:  True\n",
      "Read a new frame:  True\n",
      "Read a new frame:  True\n",
      "Read a new frame:  True\n",
      "Read a new frame:  True\n",
      "Read a new frame:  True\n",
      "Read a new frame:  True\n",
      "Read a new frame:  True\n",
      "Read a new frame:  True\n",
      "Read a new frame:  True\n",
      "Read a new frame:  True\n",
      "Read a new frame:  True\n",
      "Read a new frame:  True\n",
      "Read a new frame:  True\n",
      "Read a new frame:  True\n",
      "Read a new frame:  True\n",
      "Read a new frame:  True\n",
      "Read a new frame:  True\n",
      "Read a new frame:  True\n",
      "Read a new frame:  True\n",
      "Read a new frame:  True\n",
      "Read a new frame:  True\n",
      "Read a new frame:  True\n",
      "Read a new frame:  True\n",
      "Read a new frame:  True\n",
      "Read a new frame:  True\n",
      "Read a new frame:  True\n",
      "Read a new frame:  True\n",
      "Read a new frame:  True\n",
      "Read a new frame:  True\n",
      "Read a new frame:  True\n",
      "Read a new frame:  True\n",
      "Read a new frame:  True\n",
      "Read a new frame:  True\n",
      "Read a new frame:  True\n",
      "Read a new frame:  True\n",
      "Read a new frame:  True\n",
      "Read a new frame:  True\n",
      "Read a new frame:  True\n",
      "Read a new frame:  True\n",
      "Read a new frame:  True\n",
      "Read a new frame:  True\n",
      "Read a new frame:  True\n",
      "Read a new frame:  True\n",
      "Read a new frame:  True\n",
      "Read a new frame:  True\n",
      "Read a new frame:  True\n",
      "Read a new frame:  True\n",
      "Read a new frame:  True\n",
      "Read a new frame:  True\n",
      "Read a new frame:  True\n",
      "Read a new frame:  True\n",
      "Read a new frame:  True\n",
      "Read a new frame:  True\n",
      "Read a new frame:  True\n",
      "Read a new frame:  True\n",
      "Read a new frame:  True\n",
      "Read a new frame:  True\n",
      "Read a new frame:  True\n",
      "Read a new frame:  True\n",
      "Read a new frame:  True\n",
      "Read a new frame:  True\n",
      "Read a new frame:  True\n",
      "Read a new frame:  True\n",
      "Read a new frame:  True\n",
      "Read a new frame:  True\n",
      "Read a new frame:  True\n",
      "Read a new frame:  True\n",
      "Read a new frame:  True\n",
      "Read a new frame:  True\n",
      "Read a new frame:  True\n",
      "Read a new frame:  True\n",
      "Read a new frame:  True\n",
      "Read a new frame:  False\n",
      "finish! convert video to frame\n"
     ]
    }
   ],
   "source": [
    "#true data maker\n",
    "\n",
    "import cv2\n",
    "nn = 'KartDrift   2023-03-30 13-16-00.mp4'\n",
    "vidcap = cv2.VideoCapture('C:\\\\Users\\\\sangil\\\\Videos\\\\Captures\\\\KartDrift   2023-03-30 09-47-07.mp4')\n",
    "success,image = vidcap.read()\n",
    "count = 0\n",
    "time_skips = float(500)\n",
    "while success:\n",
    "#   p = \"out\\\\kart_normal\\\\%06d.jpg\" % count\n",
    "#   print(p)\n",
    "    \n",
    "    # if count % 20000000 == 0:\n",
    "    \n",
    "    # cv2.imwrite(\"out\\\\kart_normal\\\\1_%06d.jpg\" % count, image)     # save frame as JPEG file\n",
    "    cv2.imwrite(\"out\\\\kart_test\\\\selftestset1_%06d.webp\" % count, image)#, cv2.IMWRITE_WEBP_QUALITY)\n",
    "    \n",
    "    success,image = vidcap.read()\n",
    "    print('Read a new frame: ', success)\n",
    "    vidcap.set(cv2.CAP_PROP_POS_MSEC,\n",
    "    (count*time_skips))    \n",
    "    # move the time\n",
    "    \n",
    "    count += 1\n",
    "    # count += 1\n",
    "\n",
    "vidcap.release()\n",
    "print(\"finish! convert video to frame\")"
   ]
  },
  {
   "cell_type": "code",
   "execution_count": null,
   "metadata": {},
   "outputs": [],
   "source": []
  }
 ],
 "metadata": {
  "kernelspec": {
   "display_name": "venv",
   "language": "python",
   "name": "python3"
  },
  "language_info": {
   "codemirror_mode": {
    "name": "ipython",
    "version": 3
   },
   "file_extension": ".py",
   "mimetype": "text/x-python",
   "name": "python",
   "nbconvert_exporter": "python",
   "pygments_lexer": "ipython3",
   "version": "3.11.2"
  },
  "orig_nbformat": 4
 },
 "nbformat": 4,
 "nbformat_minor": 2
}
